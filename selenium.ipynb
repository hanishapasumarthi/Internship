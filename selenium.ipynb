{
 "cells": [
  {
   "cell_type": "code",
   "execution_count": null,
   "id": "fda26c46",
   "metadata": {},
   "outputs": [],
   "source": [
    "!pip install selenium"
   ]
  },
  {
   "cell_type": "code",
   "execution_count": 1,
   "id": "a657f8b3",
   "metadata": {},
   "outputs": [],
   "source": [
    "import selenium\n",
    "import pandas as pd\n",
    "from selenium import webdriver\n",
    "from selenium.webdriver.common.by import By\n",
    "import warnings\n",
    "warnings.filterwarnings('ignore')\n",
    "import time"
   ]
  },
  {
   "cell_type": "code",
   "execution_count": null,
   "id": "6c737a8c",
   "metadata": {},
   "outputs": [],
   "source": [
    "driver=webdriver.Chrome(r'C:\\Users\\hanis\\Downloads\\chromedriver_win32\\chromedriver.exe')"
   ]
  },
  {
   "cell_type": "code",
   "execution_count": null,
   "id": "a875240d",
   "metadata": {},
   "outputs": [],
   "source": [
    "#Question 1"
   ]
  },
  {
   "cell_type": "code",
   "execution_count": null,
   "id": "b1e424d1",
   "metadata": {},
   "outputs": [],
   "source": [
    "driver.get('https://www.naukri.com/')"
   ]
  },
  {
   "cell_type": "code",
   "execution_count": null,
   "id": "c8adedf6",
   "metadata": {},
   "outputs": [],
   "source": [
    "des=driver.find_element(By.CLASS_NAME,'suggestor-input')"
   ]
  },
  {
   "cell_type": "code",
   "execution_count": null,
   "id": "089e54de",
   "metadata": {},
   "outputs": [],
   "source": [
    "des.send_keys('Data Analyst')"
   ]
  },
  {
   "cell_type": "code",
   "execution_count": null,
   "id": "6d0f3687",
   "metadata": {},
   "outputs": [],
   "source": [
    "loc=driver.find_element(By.XPATH,'/html/body/div[1]/div[7]/div/div/div[5]/div/div/div/div[1]/div/input')\n",
    "loc.send_keys('Banglore')"
   ]
  },
  {
   "cell_type": "code",
   "execution_count": null,
   "id": "4e96af31",
   "metadata": {},
   "outputs": [],
   "source": [
    "search=driver.find_element(By.CLASS_NAME,'qsbSubmit')\n",
    "search.click()"
   ]
  },
  {
   "cell_type": "code",
   "execution_count": null,
   "id": "9625849c",
   "metadata": {},
   "outputs": [],
   "source": [
    "title=[]\n",
    "location=[]\n",
    "company_name=[]\n",
    "exp_required=[]"
   ]
  },
  {
   "cell_type": "code",
   "execution_count": null,
   "id": "d8faad0f",
   "metadata": {},
   "outputs": [],
   "source": [
    "title_tags=driver.find_elements(By.XPATH,'//a[@class=\"title ellipsis\"]')\n",
    "for i in title_tags[0:10]:\n",
    "    title.append(i.text)\n",
    "    \n",
    "title    "
   ]
  },
  {
   "cell_type": "code",
   "execution_count": null,
   "id": "9936fe0e",
   "metadata": {},
   "outputs": [],
   "source": [
    "loc_tags=driver.find_elements(By.XPATH,'//span[@class=\"ellipsis fleft locWdth\"]')\n",
    "for i in loc_tags[0:10]:\n",
    "    location.append(i.text)\n",
    "    \n",
    "location    "
   ]
  },
  {
   "cell_type": "code",
   "execution_count": null,
   "id": "6ea43613",
   "metadata": {},
   "outputs": [],
   "source": [
    "location"
   ]
  },
  {
   "cell_type": "code",
   "execution_count": null,
   "id": "c2686053",
   "metadata": {},
   "outputs": [],
   "source": [
    "name_tags=driver.find_elements(By.XPATH,'//a[@class=\"subTitle ellipsis fleft\"]')\n",
    "for i in name_tags[0:10]:\n",
    "    company_name.append(i.text)\n",
    "    \n",
    "company_name    "
   ]
  },
  {
   "cell_type": "code",
   "execution_count": null,
   "id": "9d9ab3b9",
   "metadata": {},
   "outputs": [],
   "source": [
    "exp_tags=driver.find_elements(By.XPATH,'//span[@class=\"ellipsis fleft expwdth\"]')\n",
    "for i in exp_tags[0:10]:\n",
    "    exp_required.append(i.text)\n",
    "    \n",
    "exp_required    "
   ]
  },
  {
   "cell_type": "code",
   "execution_count": null,
   "id": "1138cce1",
   "metadata": {},
   "outputs": [],
   "source": [
    "df=pd.DataFrame(columns=['Title','Location','Company Name','Experience Required'])\n",
    "df[\"Title\"]=title\n",
    "df['Location']=location\n",
    "df['Company Name']=company_name\n",
    "df['Experience Required']=exp_required\n",
    "df"
   ]
  },
  {
   "cell_type": "code",
   "execution_count": null,
   "id": "a1b37bca",
   "metadata": {},
   "outputs": [],
   "source": [
    "#Question 2"
   ]
  },
  {
   "cell_type": "code",
   "execution_count": null,
   "id": "aa757521",
   "metadata": {},
   "outputs": [],
   "source": [
    "driver=webdriver.Chrome(r'C:\\Users\\hanis\\Downloads\\chromedriver_win32\\chromedriver.exe')"
   ]
  },
  {
   "cell_type": "code",
   "execution_count": null,
   "id": "3a4e50a7",
   "metadata": {},
   "outputs": [],
   "source": [
    "driver.get('https://www.naukri.com/')"
   ]
  },
  {
   "cell_type": "code",
   "execution_count": null,
   "id": "98e9174e",
   "metadata": {},
   "outputs": [],
   "source": [
    "des=driver.find_element(By.CLASS_NAME,'suggestor-input ')\n",
    "des.send_keys('DataScientist')"
   ]
  },
  {
   "cell_type": "code",
   "execution_count": null,
   "id": "68d8a827",
   "metadata": {},
   "outputs": [],
   "source": [
    "loc=driver.find_element(By.XPATH,'/html/body/div[1]/div[7]/div/div/div[5]/div/div/div/div[1]/div/input')\n",
    "loc.send_keys('Banglore')"
   ]
  },
  {
   "cell_type": "code",
   "execution_count": null,
   "id": "02eada00",
   "metadata": {},
   "outputs": [],
   "source": [
    "search=driver.find_element(By.CLASS_NAME,'qsbSubmit')\n",
    "search.click()"
   ]
  },
  {
   "cell_type": "code",
   "execution_count": null,
   "id": "e6195e37",
   "metadata": {},
   "outputs": [],
   "source": [
    "title=[]\n",
    "location=[]\n",
    "company_name=[]\n",
    "exp_required=[]"
   ]
  },
  {
   "cell_type": "code",
   "execution_count": null,
   "id": "6a8575cb",
   "metadata": {},
   "outputs": [],
   "source": [
    "title_tag=driver.find_elements(By.XPATH,'//a[@class=\"title ellipsis\"]')\n",
    "for i in title_tag[0:10]:\n",
    "    title.append(i.text)"
   ]
  },
  {
   "cell_type": "code",
   "execution_count": null,
   "id": "ca33dd01",
   "metadata": {},
   "outputs": [],
   "source": [
    "title"
   ]
  },
  {
   "cell_type": "code",
   "execution_count": null,
   "id": "11758ebc",
   "metadata": {},
   "outputs": [],
   "source": [
    "  \n",
    "loc_tags=driver.find_elements(By.XPATH,'//span[@class=\"ellipsis fleft locWdth\"]')\n",
    "for i in loc_tags[0:10]:\n",
    "    location.append(i.text)\n",
    "    \n",
    "location    "
   ]
  },
  {
   "cell_type": "code",
   "execution_count": null,
   "id": "5ec9ee70",
   "metadata": {},
   "outputs": [],
   "source": [
    "name_tags=driver.find_elements(By.XPATH,'//a[@class=\"subTitle ellipsis fleft\"]')\n",
    "for i in name_tags[0:10]:\n",
    "    company_name.append(i.text)\n",
    "    \n",
    "company_name  "
   ]
  },
  {
   "cell_type": "code",
   "execution_count": null,
   "id": "33591b1a",
   "metadata": {},
   "outputs": [],
   "source": [
    "exp_tags=driver.find_elements(By.XPATH,'//span[@class=\"ellipsis fleft expwdth\"]')\n",
    "for i in exp_tags[0:10]:\n",
    "    exp_required.append(i.text)\n",
    "    \n",
    "exp_required    "
   ]
  },
  {
   "cell_type": "code",
   "execution_count": null,
   "id": "095283f9",
   "metadata": {},
   "outputs": [],
   "source": [
    "df=pd.DataFrame(columns=['Title','Location','Company Name','Experience Required'])\n",
    "df[\"Title\"]=title\n",
    "df['Location']=location\n",
    "df['Company Name']=company_name\n",
    "df['Experience Required']=exp_required\n",
    "df"
   ]
  },
  {
   "cell_type": "code",
   "execution_count": null,
   "id": "f0f7905f",
   "metadata": {},
   "outputs": [],
   "source": [
    "#Question 3"
   ]
  },
  {
   "cell_type": "code",
   "execution_count": null,
   "id": "2f475e41",
   "metadata": {},
   "outputs": [],
   "source": [
    "df=pd.DataFrame(columns=['Title','Company Name','Location','Experience Required'])"
   ]
  },
  {
   "cell_type": "code",
   "execution_count": null,
   "id": "aa60d2e1",
   "metadata": {},
   "outputs": [],
   "source": [
    "driver=webdriver.Chrome(r'C:\\Users\\hanis\\Downloads\\chromedriver_win32\\chromedriver.exe')"
   ]
  },
  {
   "cell_type": "code",
   "execution_count": null,
   "id": "83be4ba1",
   "metadata": {},
   "outputs": [],
   "source": [
    "driver.get('http://www.naukri.com/')"
   ]
  },
  {
   "cell_type": "code",
   "execution_count": null,
   "id": "93b37682",
   "metadata": {},
   "outputs": [],
   "source": [
    "des=driver.find_element(By.CLASS_NAME,'suggestor-input ')\n",
    "des.send_keys('DataScientist')"
   ]
  },
  {
   "cell_type": "code",
   "execution_count": null,
   "id": "ad4c66fd",
   "metadata": {},
   "outputs": [],
   "source": [
    "search=driver.find_element(By.CLASS_NAME,'qsbSubmit')\n",
    "search.click()"
   ]
  },
  {
   "cell_type": "code",
   "execution_count": null,
   "id": "3ee68656",
   "metadata": {},
   "outputs": [],
   "source": [
    "loc=driver.find_element(By.XPATH,'/html/body/div[1]/div[4]/div/div/section[1]/div[2]/div[4]/div[2]').click()"
   ]
  },
  {
   "cell_type": "code",
   "execution_count": null,
   "id": "e811099c",
   "metadata": {},
   "outputs": [],
   "source": [
    "sal=driver.find_element(By.XPATH,'/html/body/div[1]/div[4]/div/div/section[1]/div[2]/div[5]/div[2]/div[1]/label/p/span[1]').click()"
   ]
  },
  {
   "cell_type": "code",
   "execution_count": null,
   "id": "6e95a724",
   "metadata": {},
   "outputs": [],
   "source": [
    "title=[]\n",
    "title_tag=driver.find_element(By.XPATH,'/html/body/div[1]/div[4]/div/div/section[2]/div[2]/article/div[1]/div[1]/a')\n",
    "print(title_tag.text)\n",
    "title.append(title_tag.text)"
   ]
  },
  {
   "cell_type": "code",
   "execution_count": null,
   "id": "f63dd7cb",
   "metadata": {},
   "outputs": [],
   "source": [
    "cname=[]\n",
    "name=driver.find_element(By.XPATH,'/html/body/div[1]/div[4]/div/div/section[2]/div[2]/article/div[1]/div[1]/div/a[1]')\n",
    "name=name.text\n",
    "cname.append(name)"
   ]
  },
  {
   "cell_type": "code",
   "execution_count": null,
   "id": "5bd98115",
   "metadata": {},
   "outputs": [],
   "source": [
    "cexp=[]\n",
    "exp=driver.find_element(By.XPATH,'/html/body/div[1]/div[4]/div/div/section[2]/div[2]/article/div[1]/ul/li[1]/span[1]')\n",
    "cexp.append(exp.text)\n"
   ]
  },
  {
   "cell_type": "code",
   "execution_count": null,
   "id": "42cc03d6",
   "metadata": {},
   "outputs": [],
   "source": [
    "cloc=[]\n",
    "loc=driver.find_element(By.XPATH,'/html/body/div[1]/div[4]/div/div/section[2]/div[2]/article/div[1]/ul/li[3]/span')\n",
    "cloc.append(loc.text)"
   ]
  },
  {
   "cell_type": "code",
   "execution_count": null,
   "id": "ed64e0e6",
   "metadata": {},
   "outputs": [],
   "source": [
    "df[\"Title\"]=title\n",
    "df['Location']=cloc\n",
    "df['Company Name']=cname\n",
    "df['Experience Required']=cexp\n",
    "df"
   ]
  },
  {
   "cell_type": "code",
   "execution_count": null,
   "id": "5879767d",
   "metadata": {},
   "outputs": [],
   "source": [
    "#Question 4"
   ]
  },
  {
   "cell_type": "code",
   "execution_count": 39,
   "id": "3e29adf3",
   "metadata": {},
   "outputs": [],
   "source": [
    "driver=webdriver.Chrome(r'C:\\Users\\hanis\\Downloads\\chromedriver_win32\\chromedriver.exe')"
   ]
  },
  {
   "cell_type": "code",
   "execution_count": 40,
   "id": "fd4b5b27",
   "metadata": {},
   "outputs": [],
   "source": [
    "driver.get('http://www.flipkart.com/')"
   ]
  },
  {
   "cell_type": "code",
   "execution_count": 41,
   "id": "702322a3",
   "metadata": {},
   "outputs": [],
   "source": [
    "product=driver.find_element(By.CLASS_NAME,'_3704LK')\n",
    "product.send_keys('Sunglasses')"
   ]
  },
  {
   "cell_type": "code",
   "execution_count": 43,
   "id": "005c8a06",
   "metadata": {},
   "outputs": [],
   "source": [
    "button=driver.find_element(By.XPATH,'/html/body/div[1]/div/div[1]/div[1]/div[2]/div[2]/form/div/button')\n",
    "button.click()"
   ]
  },
  {
   "cell_type": "code",
   "execution_count": 47,
   "id": "359ba2e4",
   "metadata": {},
   "outputs": [
    {
     "data": {
      "text/plain": [
       "100"
      ]
     },
     "execution_count": 47,
     "metadata": {},
     "output_type": "execute_result"
    }
   ],
   "source": [
    "start=0\n",
    "\n",
    "end=3\n",
    "brand=[]\n",
    "price=[]\n",
    "desc=[]\n",
    "n=1\n",
    "for page in range(start,end):\n",
    "\n",
    "    brands=driver.find_elements(By.XPATH,\"//div[@class='_2WkVRV']\")\n",
    "    desc_tags=driver.find_elements(By.XPATH,'//a[@class=\"IRpwTa\"]')\n",
    "    price_tags=driver.find_elements(By.XPATH,'//div[@class=\"_30jeq3\"]')\n",
    "\n",
    "    for i in brands:\n",
    "        if(n<=100):\n",
    "            brand.append(i.text)\n",
    "            n+=1\n",
    "        else:\n",
    "            break\n",
    "\n",
    "        \n",
    "        \n",
    "len(brand)        "
   ]
  },
  {
   "cell_type": "code",
   "execution_count": 50,
   "id": "f22f8daf",
   "metadata": {},
   "outputs": [
    {
     "data": {
      "text/plain": [
       "100"
      ]
     },
     "execution_count": 50,
     "metadata": {},
     "output_type": "execute_result"
    }
   ],
   "source": [
    "start=0\n",
    "\n",
    "end=3\n",
    "\n",
    "desc=[]\n",
    "n=1\n",
    "for page in range(start,end):\n",
    "\n",
    "   \n",
    "    desc_tags=driver.find_elements(By.XPATH,'//a[@class=\"IRpwTa\"]')\n",
    "   \n",
    "\n",
    "    for i in desc_tags:\n",
    "        if(n<=100):\n",
    "            desc.append(i.text)\n",
    "            n+=1\n",
    "        else:\n",
    "            break\n",
    "\n",
    "        \n",
    "        \n",
    "len(desc)        "
   ]
  },
  {
   "cell_type": "code",
   "execution_count": 49,
   "id": "a73b3663",
   "metadata": {},
   "outputs": [
    {
     "data": {
      "text/plain": [
       "100"
      ]
     },
     "execution_count": 49,
     "metadata": {},
     "output_type": "execute_result"
    }
   ],
   "source": [
    "start=0\n",
    "\n",
    "end=3\n",
    "\n",
    "price=[]\n",
    "\n",
    "n=1\n",
    "for page in range(start,end):\n",
    "\n",
    "    \n",
    "    price_tags=driver.find_elements(By.XPATH,'//div[@class=\"_30jeq3\"]')\n",
    "\n",
    "    for i in price_tags:\n",
    "        if(n<=100):\n",
    "            price.append(i.text)\n",
    "            n+=1\n",
    "        else:\n",
    "            break\n",
    "\n",
    "        \n",
    "        \n",
    "len(price)        "
   ]
  },
  {
   "cell_type": "code",
   "execution_count": 94,
   "id": "c7377c78",
   "metadata": {},
   "outputs": [
    {
     "data": {
      "text/plain": [
       "53"
      ]
     },
     "execution_count": 94,
     "metadata": {},
     "output_type": "execute_result"
    }
   ],
   "source": [
    "len(name)"
   ]
  },
  {
   "cell_type": "code",
   "execution_count": null,
   "id": "f1c263a4",
   "metadata": {},
   "outputs": [],
   "source": []
  },
  {
   "cell_type": "code",
   "execution_count": null,
   "id": "17a66604",
   "metadata": {},
   "outputs": [],
   "source": [
    "#Question 5"
   ]
  },
  {
   "cell_type": "code",
   "execution_count": 51,
   "id": "bf1fcdcd",
   "metadata": {},
   "outputs": [],
   "source": [
    "driver=webdriver.Chrome(r'C:\\Users\\hanis\\Downloads\\chromedriver_win32\\chromedriver.exe')"
   ]
  },
  {
   "cell_type": "code",
   "execution_count": 52,
   "id": "376bd50b",
   "metadata": {},
   "outputs": [],
   "source": [
    "driver.get('https://www.flipkart.com/apple-iphone-11-black-128-gb/p/itm8244e8d955aba?pid=MOBFWQ6BKRYBP5X8&lid=LSTMOBFWQ6BKRYBP5X8IBG6BS&marketplace=FLIPKART&q=iphone11&store=tyy%2F4io&srno=s_1_3&otracker=search&otracker1=search&fm=organic&iid=aa96cc0c-b96c-46f3-958b-f2ce060fb957.MOBFWQ6BKRYBP5X8.SEARCH&ppt=hp&ppn=homepage&ssid=vfzeqgc7cw0000001683352837906&qH=d6db477051465f9a')"
   ]
  },
  {
   "cell_type": "code",
   "execution_count": 53,
   "id": "b56bc765",
   "metadata": {},
   "outputs": [],
   "source": [
    "click=driver.find_element(By.XPATH,'/html/body/div[1]/div/div[3]/div[1]/div[2]/div[9]/div[7]/div/a/div')\n",
    "click.click()"
   ]
  },
  {
   "cell_type": "code",
   "execution_count": 56,
   "id": "fd7665cd",
   "metadata": {},
   "outputs": [
    {
     "data": {
      "text/plain": [
       "['Simply awesome',\n",
       " 'Perfect product!',\n",
       " 'Best in the market!',\n",
       " 'Value-for-money',\n",
       " 'Highly recommended',\n",
       " 'Worth every penny',\n",
       " 'Perfect product!',\n",
       " 'Pretty good',\n",
       " 'Highly recommended',\n",
       " 'Great product',\n",
       " 'Simply awesome',\n",
       " 'Perfect product!',\n",
       " 'Best in the market!',\n",
       " 'Value-for-money',\n",
       " 'Highly recommended',\n",
       " 'Worth every penny',\n",
       " 'Perfect product!',\n",
       " 'Pretty good',\n",
       " 'Highly recommended',\n",
       " 'Great product',\n",
       " 'Simply awesome',\n",
       " 'Perfect product!',\n",
       " 'Best in the market!',\n",
       " 'Value-for-money',\n",
       " 'Highly recommended',\n",
       " 'Worth every penny',\n",
       " 'Perfect product!',\n",
       " 'Pretty good',\n",
       " 'Highly recommended',\n",
       " 'Great product',\n",
       " 'Simply awesome',\n",
       " 'Perfect product!',\n",
       " 'Best in the market!',\n",
       " 'Value-for-money',\n",
       " 'Highly recommended',\n",
       " 'Worth every penny',\n",
       " 'Perfect product!',\n",
       " 'Pretty good',\n",
       " 'Highly recommended',\n",
       " 'Great product',\n",
       " 'Simply awesome',\n",
       " 'Perfect product!',\n",
       " 'Best in the market!',\n",
       " 'Value-for-money',\n",
       " 'Highly recommended',\n",
       " 'Worth every penny',\n",
       " 'Perfect product!',\n",
       " 'Pretty good',\n",
       " 'Highly recommended',\n",
       " 'Great product',\n",
       " 'Simply awesome',\n",
       " 'Perfect product!',\n",
       " 'Best in the market!',\n",
       " 'Value-for-money',\n",
       " 'Highly recommended',\n",
       " 'Worth every penny',\n",
       " 'Perfect product!',\n",
       " 'Pretty good',\n",
       " 'Highly recommended',\n",
       " 'Great product',\n",
       " 'Simply awesome',\n",
       " 'Perfect product!',\n",
       " 'Best in the market!',\n",
       " 'Value-for-money',\n",
       " 'Highly recommended',\n",
       " 'Worth every penny',\n",
       " 'Perfect product!',\n",
       " 'Pretty good',\n",
       " 'Highly recommended',\n",
       " 'Great product',\n",
       " 'Simply awesome',\n",
       " 'Perfect product!',\n",
       " 'Best in the market!',\n",
       " 'Value-for-money',\n",
       " 'Highly recommended',\n",
       " 'Worth every penny',\n",
       " 'Perfect product!',\n",
       " 'Pretty good',\n",
       " 'Highly recommended',\n",
       " 'Great product',\n",
       " 'Simply awesome',\n",
       " 'Perfect product!',\n",
       " 'Best in the market!',\n",
       " 'Value-for-money',\n",
       " 'Highly recommended',\n",
       " 'Worth every penny',\n",
       " 'Perfect product!',\n",
       " 'Pretty good',\n",
       " 'Highly recommended',\n",
       " 'Great product',\n",
       " 'Simply awesome',\n",
       " 'Perfect product!',\n",
       " 'Best in the market!',\n",
       " 'Value-for-money',\n",
       " 'Highly recommended',\n",
       " 'Worth every penny',\n",
       " 'Perfect product!',\n",
       " 'Pretty good',\n",
       " 'Highly recommended',\n",
       " 'Great product']"
      ]
     },
     "execution_count": 56,
     "metadata": {},
     "output_type": "execute_result"
    }
   ],
   "source": [
    "start=0\n",
    "\n",
    "end=10\n",
    "\n",
    "review=[]\n",
    "n=1\n",
    "for page in range(start,end):\n",
    "\n",
    "   \n",
    "    review_tags=driver.find_elements(By.XPATH,'//p[@class=\"_2-N8zT\"]')\n",
    "   \n",
    "\n",
    "    for i in review_tags:\n",
    "        if(n<=100):\n",
    "            review.append(i.text)\n",
    "            n+=1\n",
    "        else:\n",
    "            break\n",
    "\n",
    "        \n",
    "        \n",
    "review        "
   ]
  },
  {
   "cell_type": "code",
   "execution_count": 58,
   "id": "fba579f5",
   "metadata": {},
   "outputs": [
    {
     "data": {
      "text/plain": [
       "100"
      ]
     },
     "execution_count": 58,
     "metadata": {},
     "output_type": "execute_result"
    }
   ],
   "source": [
    "start=0\n",
    "\n",
    "end=10\n",
    "\n",
    "freview=[]\n",
    "n=1\n",
    "for page in range(start,end):\n",
    "\n",
    "   \n",
    "    freview_tags=driver.find_elements(By.XPATH,'//div[@class=\"t-ZTKy\"]')\n",
    "   \n",
    "\n",
    "    for i in freview_tags:\n",
    "        if(n<=100):\n",
    "            freview.append(i.text)\n",
    "            n+=1\n",
    "        else:\n",
    "            break\n",
    "\n",
    "        \n",
    "        \n",
    "len(freview)        "
   ]
  },
  {
   "cell_type": "code",
   "execution_count": 59,
   "id": "a9b0d548",
   "metadata": {},
   "outputs": [
    {
     "data": {
      "text/plain": [
       "100"
      ]
     },
     "execution_count": 59,
     "metadata": {},
     "output_type": "execute_result"
    }
   ],
   "source": [
    "start=0\n",
    "\n",
    "end=10\n",
    "\n",
    "rating=[]\n",
    "n=1\n",
    "for page in range(start,end):\n",
    "\n",
    "   \n",
    "    rating_tags=driver.find_elements(By.XPATH,'//div[@class=\"_3LWZlK _1BLPMq\"]')\n",
    "   \n",
    "\n",
    "    for i in rating_tags:\n",
    "        if(n<=100):\n",
    "            rating.append(i.text)\n",
    "            n+=1\n",
    "        else:\n",
    "            break\n",
    "\n",
    "        \n",
    "        \n",
    "len(rating)        "
   ]
  },
  {
   "cell_type": "code",
   "execution_count": null,
   "id": "de1d5437",
   "metadata": {},
   "outputs": [],
   "source": []
  },
  {
   "cell_type": "code",
   "execution_count": null,
   "id": "e6a58b01",
   "metadata": {},
   "outputs": [],
   "source": [
    "#Question 6"
   ]
  },
  {
   "cell_type": "code",
   "execution_count": 78,
   "id": "92d8c745",
   "metadata": {},
   "outputs": [],
   "source": [
    "driver=webdriver.Chrome(r'C:\\Users\\hanis\\Downloads\\chromedriver_win32\\chromedriver.exe')"
   ]
  },
  {
   "cell_type": "code",
   "execution_count": 79,
   "id": "ee6aa214",
   "metadata": {},
   "outputs": [],
   "source": [
    "driver.get('http://www.flipkart.com/')"
   ]
  },
  {
   "cell_type": "code",
   "execution_count": 80,
   "id": "0e11fe85",
   "metadata": {},
   "outputs": [],
   "source": [
    "product=driver.find_element(By.CLASS_NAME,'_3704LK')\n",
    "product.send_keys('Sneakers')"
   ]
  },
  {
   "cell_type": "code",
   "execution_count": 81,
   "id": "399a12de",
   "metadata": {},
   "outputs": [],
   "source": [
    "button=driver.find_element(By.XPATH,'/html/body/div[1]/div/div[1]/div[1]/div[2]/div[2]/form/div/button')\n",
    "button.click()"
   ]
  },
  {
   "cell_type": "code",
   "execution_count": 84,
   "id": "c787cefa",
   "metadata": {},
   "outputs": [
    {
     "data": {
      "text/plain": [
       "['Roadster',\n",
       " 'World Wear Footwear',\n",
       " 'Layasa',\n",
       " 'BIRDE',\n",
       " 'BIRDE',\n",
       " 'aadi',\n",
       " 'RINDAS',\n",
       " 'asian',\n",
       " 'Layasa',\n",
       " 'BRUTON',\n",
       " 'aadi',\n",
       " 'ATOM',\n",
       " 'BRUTON',\n",
       " 'Kraasa',\n",
       " 'Kraasa',\n",
       " 'BRUTON',\n",
       " 'World Wear Footwear',\n",
       " 'RapidBox',\n",
       " 'asian',\n",
       " 'Labbin',\n",
       " 'BRUTON',\n",
       " 'Kelwin',\n",
       " 'aadi',\n",
       " 'BIRDE',\n",
       " 'aadi',\n",
       " 'BIRDE',\n",
       " 'aadi',\n",
       " 'aadi',\n",
       " 'BIRDE',\n",
       " 'HIGHLANDER',\n",
       " 'Kraasa',\n",
       " 'Footox',\n",
       " 'Shozie',\n",
       " 'asian',\n",
       " 'BIRDE',\n",
       " 'aadi',\n",
       " 'K- FOOTLANCE',\n",
       " 'Footox',\n",
       " 'LIBERTY',\n",
       " 'WHITE WALKERS',\n",
       " 'Roadster',\n",
       " 'World Wear Footwear',\n",
       " 'Layasa',\n",
       " 'BIRDE',\n",
       " 'BIRDE',\n",
       " 'aadi',\n",
       " 'RINDAS',\n",
       " 'asian',\n",
       " 'Layasa',\n",
       " 'BRUTON',\n",
       " 'aadi',\n",
       " 'ATOM',\n",
       " 'BRUTON',\n",
       " 'Kraasa',\n",
       " 'Kraasa',\n",
       " 'BRUTON',\n",
       " 'World Wear Footwear',\n",
       " 'RapidBox',\n",
       " 'asian',\n",
       " 'Labbin',\n",
       " 'BRUTON',\n",
       " 'Kelwin',\n",
       " 'aadi',\n",
       " 'BIRDE',\n",
       " 'aadi',\n",
       " 'BIRDE',\n",
       " 'aadi',\n",
       " 'aadi',\n",
       " 'BIRDE',\n",
       " 'HIGHLANDER',\n",
       " 'Kraasa',\n",
       " 'Footox',\n",
       " 'Shozie',\n",
       " 'asian',\n",
       " 'BIRDE',\n",
       " 'aadi',\n",
       " 'K- FOOTLANCE',\n",
       " 'Footox',\n",
       " 'LIBERTY',\n",
       " 'WHITE WALKERS',\n",
       " 'Roadster',\n",
       " 'World Wear Footwear',\n",
       " 'Layasa',\n",
       " 'BIRDE',\n",
       " 'BIRDE',\n",
       " 'aadi',\n",
       " 'RINDAS',\n",
       " 'asian',\n",
       " 'Layasa',\n",
       " 'BRUTON',\n",
       " 'aadi',\n",
       " 'ATOM',\n",
       " 'BRUTON',\n",
       " 'Kraasa',\n",
       " 'Kraasa',\n",
       " 'BRUTON',\n",
       " 'World Wear Footwear',\n",
       " 'RapidBox',\n",
       " 'asian',\n",
       " 'Labbin']"
      ]
     },
     "execution_count": 84,
     "metadata": {},
     "output_type": "execute_result"
    }
   ],
   "source": [
    "name=[]\n",
    "n=1\n",
    "while(n<=100):\n",
    "    tags=driver.find_elements(By.XPATH,'//div[@class=\"_2WkVRV\"]')\n",
    "    for i in tags:\n",
    "        if(n<=100):\n",
    "            name.append(i.text)\n",
    "            n+=1\n",
    "        else:\n",
    "            break\n",
    "    else:\n",
    "        next=driver.find_element(By.CLASS_NAME,'_1LKTO3')\n",
    "        next.click\n",
    "        continue\n",
    "name"
   ]
  },
  {
   "cell_type": "code",
   "execution_count": 85,
   "id": "f176c2c1",
   "metadata": {},
   "outputs": [
    {
     "data": {
      "text/plain": [
       "100"
      ]
     },
     "execution_count": 85,
     "metadata": {},
     "output_type": "execute_result"
    }
   ],
   "source": [
    "len(name)"
   ]
  },
  {
   "cell_type": "code",
   "execution_count": 86,
   "id": "b66a097a",
   "metadata": {},
   "outputs": [
    {
     "data": {
      "text/plain": [
       "100"
      ]
     },
     "execution_count": 86,
     "metadata": {},
     "output_type": "execute_result"
    }
   ],
   "source": [
    "des=[]\n",
    "n=1\n",
    "while(n<=100):\n",
    "    tags=driver.find_elements(By.XPATH,'//a[@class=\"IRpwTa\"]')\n",
    "    for i in tags:\n",
    "        if(n<=100):\n",
    "            n+=1\n",
    "            des.append(i.text)\n",
    "        else:\n",
    "            break\n",
    "    else:\n",
    "        next=driver.find_element(By.CLASS_NAME,'_1LKTO3')\n",
    "        next.click\n",
    "        continue\n",
    "len(des)      "
   ]
  },
  {
   "cell_type": "code",
   "execution_count": 87,
   "id": "4e92ec60",
   "metadata": {},
   "outputs": [
    {
     "data": {
      "text/plain": [
       "100"
      ]
     },
     "execution_count": 87,
     "metadata": {},
     "output_type": "execute_result"
    }
   ],
   "source": [
    "price=[]\n",
    "n=1\n",
    "while(n<=100):\n",
    "    tags=driver.find_elements(By.XPATH,'//div[@class=\"_30jeq3\"]')\n",
    "    for i in tags:\n",
    "        if(n<=100):\n",
    "            n+=1\n",
    "            price.append(i.text)\n",
    "        else:\n",
    "            break\n",
    "            \n",
    "    else:\n",
    "        next=driver.find_element(By.CLASS_NAME,'_1LKTO3')\n",
    "        next.click\n",
    "        continue\n",
    "        \n",
    "len(price)        \n",
    "        "
   ]
  },
  {
   "cell_type": "code",
   "execution_count": null,
   "id": "79bb6037",
   "metadata": {},
   "outputs": [],
   "source": []
  },
  {
   "cell_type": "code",
   "execution_count": null,
   "id": "cdda26ca",
   "metadata": {},
   "outputs": [],
   "source": []
  },
  {
   "cell_type": "code",
   "execution_count": null,
   "id": "81e3d4ce",
   "metadata": {},
   "outputs": [],
   "source": []
  },
  {
   "cell_type": "code",
   "execution_count": null,
   "id": "3de6f5d4",
   "metadata": {},
   "outputs": [],
   "source": [
    "#Question 7"
   ]
  },
  {
   "cell_type": "code",
   "execution_count": null,
   "id": "04e9f4ca",
   "metadata": {},
   "outputs": [],
   "source": [
    "driver=webdriver.Chrome(r'C:\\Users\\hanis\\Downloads\\chromedriver_win32\\chromedriver.exe')"
   ]
  },
  {
   "cell_type": "code",
   "execution_count": null,
   "id": "aefd7bb4",
   "metadata": {},
   "outputs": [],
   "source": [
    "driver.get('https://www.amazon.in/')"
   ]
  },
  {
   "cell_type": "code",
   "execution_count": null,
   "id": "e9ab169b",
   "metadata": {},
   "outputs": [],
   "source": [
    "search=driver.find_element(By.XPATH,'/html/body/div[1]/header/div/div[1]/div[2]/div/form/div[2]/div[1]/input')\n",
    "search.send_keys('Laptop')"
   ]
  },
  {
   "cell_type": "code",
   "execution_count": null,
   "id": "d50e6938",
   "metadata": {},
   "outputs": [],
   "source": [
    "button=driver.find_element(By.XPATH,'/html/body/div[1]/header/div/div[1]/div[2]/div/form/div[3]/div')\n",
    "button.click()"
   ]
  },
  {
   "cell_type": "code",
   "execution_count": null,
   "id": "cea419aa",
   "metadata": {},
   "outputs": [],
   "source": [
    "cpu=driver.find_element(By.XPATH,'/html/body/div[1]/div[2]/div[1]/div[2]/div/div[3]/span/div[1]/div/div/div[6]/ul[6]/span[12]/li/span/a/span').click()\n"
   ]
  },
  {
   "cell_type": "code",
   "execution_count": null,
   "id": "d158568c",
   "metadata": {},
   "outputs": [],
   "source": [
    "title=[]\n",
    "title_tags=driver.find_elements(By.XPATH,'//span[@class=\"a-size-medium a-color-base a-text-normal\"]')\n",
    "for i in title_tags[0:10]:\n",
    "    title.append(i.text)\n",
    "    \n",
    "title    "
   ]
  },
  {
   "cell_type": "code",
   "execution_count": null,
   "id": "812773cf",
   "metadata": {},
   "outputs": [],
   "source": [
    "len(title)"
   ]
  },
  {
   "cell_type": "code",
   "execution_count": null,
   "id": "2c75fb9f",
   "metadata": {},
   "outputs": [],
   "source": [
    "ratings=[]\n",
    "rat_tags=driver.find_elements(By.XPATH,'//i[@class=\"a-icon a-icon-star-small a-star-small-4 aok-align-bottom\"]')\n",
    "for i in rat_tags:\n",
    "    ratings.append(i.text)\n",
    "    \n",
    "    \n",
    "ratings"
   ]
  },
  {
   "cell_type": "code",
   "execution_count": null,
   "id": "1cdf4b3c",
   "metadata": {},
   "outputs": [],
   "source": [
    "len(ratings)"
   ]
  },
  {
   "cell_type": "code",
   "execution_count": null,
   "id": "15d356ed",
   "metadata": {},
   "outputs": [],
   "source": [
    "price=[]\n",
    "price_tags=driver.find_elements(By.XPATH,'//span[@class=\"a-price-whole\"]')\n",
    "for i in price_tags[0:10]:\n",
    "    price.append(i.text)\n",
    "    \n",
    "    \n",
    "price    "
   ]
  },
  {
   "cell_type": "code",
   "execution_count": null,
   "id": "0abb2f8c",
   "metadata": {},
   "outputs": [],
   "source": []
  },
  {
   "cell_type": "code",
   "execution_count": null,
   "id": "5241d817",
   "metadata": {},
   "outputs": [],
   "source": []
  },
  {
   "cell_type": "code",
   "execution_count": null,
   "id": "ff0d9aef",
   "metadata": {},
   "outputs": [],
   "source": [
    "#Question 8"
   ]
  },
  {
   "cell_type": "code",
   "execution_count": 4,
   "id": "f418c42b",
   "metadata": {},
   "outputs": [],
   "source": [
    "driver=webdriver.Chrome(r'C:\\Users\\hanis\\Downloads\\chromedriver_win32\\chromedriver.exe')"
   ]
  },
  {
   "cell_type": "code",
   "execution_count": 5,
   "id": "95722bf5",
   "metadata": {},
   "outputs": [],
   "source": [
    "driver.get('https://www.azquotes.com/')"
   ]
  },
  {
   "cell_type": "code",
   "execution_count": 6,
   "id": "e6a12fd1",
   "metadata": {},
   "outputs": [],
   "source": [
    "search=driver.find_element(By.XPATH,'/html/body/div[1]/div[1]/div[1]/div/div[3]/ul/li[5]/a').click()"
   ]
  },
  {
   "cell_type": "code",
   "execution_count": null,
   "id": "e98feeb4",
   "metadata": {},
   "outputs": [],
   "source": [
    "quote=[]\n",
    "tags=driver.find_elements(By.XPATH,'//a[@class=\"title\"]')\n",
    "for i in tags[0:1000]:\n",
    "    quote.append(i.text)\n",
    "quote   "
   ]
  },
  {
   "cell_type": "code",
   "execution_count": null,
   "id": "7c5095c1",
   "metadata": {},
   "outputs": [],
   "source": [
    "len(quote)"
   ]
  },
  {
   "cell_type": "code",
   "execution_count": 7,
   "id": "3289c631",
   "metadata": {},
   "outputs": [],
   "source": [
    "quote=[]\n",
    "n=1\n",
    "while(n<=1000):\n",
    "    tags=driver.find_elements(By.XPATH,'//a[@class=\"title\"]')\n",
    "    for i in tags:\n",
    "        n+=1\n",
    "        quote.append(i.text)\n",
    "    else:\n",
    "        next=driver.find_element(By.XPATH,'/html/body/div[1]/div[2]/div/div/div/div[1]/div/div[4]/li[12]/a')\n",
    "        next.click()\n",
    "        continue"
   ]
  },
  {
   "cell_type": "code",
   "execution_count": 8,
   "id": "1fc86ec4",
   "metadata": {},
   "outputs": [
    {
     "data": {
      "text/plain": [
       "1000"
      ]
     },
     "execution_count": 8,
     "metadata": {},
     "output_type": "execute_result"
    }
   ],
   "source": [
    "len(quote)"
   ]
  },
  {
   "cell_type": "code",
   "execution_count": 9,
   "id": "84ff3625",
   "metadata": {},
   "outputs": [],
   "source": [
    "author=[]\n",
    "n=1\n",
    "while(n<=1000):\n",
    "    tags=driver.find_elements(By.XPATH,'//div[@class=\"author\"]')\n",
    "    for i in tags:\n",
    "        n+=1\n",
    "        author.append(i.text)\n",
    "    else:\n",
    "        next=driver.find_element(By.XPATH,'/html/body/div[1]/div[2]/div/div/div/div[1]/div/div[4]/li[12]/a')\n",
    "        next.click()\n",
    "        continue\n",
    "        "
   ]
  },
  {
   "cell_type": "code",
   "execution_count": 10,
   "id": "f6d21a91",
   "metadata": {},
   "outputs": [
    {
     "data": {
      "text/plain": [
       "1000"
      ]
     },
     "execution_count": 10,
     "metadata": {},
     "output_type": "execute_result"
    }
   ],
   "source": [
    "len(author)"
   ]
  },
  {
   "cell_type": "code",
   "execution_count": 16,
   "id": "0079d126",
   "metadata": {},
   "outputs": [],
   "source": [
    "\n",
    "typ=[]\n",
    "n=1\n",
    "while(n<=1000):\n",
    "    tags=driver.find_elements(By.XPATH,'//div[@class=\"tags\"]')\n",
    "    for i in tags:\n",
    "        n+=1\n",
    "        typ.append(i.text)\n",
    "        \n",
    "    else:\n",
    "        next=driver.find_element(By.XPATH,'/html/body/div[1]/div[2]/div/div/div/div[1]/div/div[4]/li[12]/a')\n",
    "        next.click()\n",
    "        continue\n",
    "        "
   ]
  },
  {
   "cell_type": "code",
   "execution_count": 17,
   "id": "4c32c52d",
   "metadata": {},
   "outputs": [
    {
     "data": {
      "text/plain": [
       "1000"
      ]
     },
     "execution_count": 17,
     "metadata": {},
     "output_type": "execute_result"
    }
   ],
   "source": [
    "len(typ)"
   ]
  },
  {
   "cell_type": "code",
   "execution_count": null,
   "id": "54e72e7b",
   "metadata": {},
   "outputs": [],
   "source": [
    "\n",
    "\n"
   ]
  },
  {
   "cell_type": "code",
   "execution_count": null,
   "id": "cebf9a8e",
   "metadata": {},
   "outputs": [],
   "source": [
    "#Question 9"
   ]
  },
  {
   "cell_type": "code",
   "execution_count": 2,
   "id": "91826b97",
   "metadata": {},
   "outputs": [],
   "source": [
    "driver=webdriver.Chrome(r'C:\\Users\\hanis\\Downloads\\chromedriver_win32\\chromedriver.exe')"
   ]
  },
  {
   "cell_type": "code",
   "execution_count": 3,
   "id": "c8167f92",
   "metadata": {},
   "outputs": [],
   "source": [
    "driver.get('https://www.jagranjosh.com/')"
   ]
  },
  {
   "cell_type": "code",
   "execution_count": 4,
   "id": "f991a752",
   "metadata": {},
   "outputs": [],
   "source": [
    "gk=driver.find_element(By.XPATH,'/html/body/div/div[1]/div/div[1]/div/div[5]/div/div[1]/header/div[3]/ul/li[3]/a')\n",
    "gk.click()"
   ]
  },
  {
   "cell_type": "code",
   "execution_count": 5,
   "id": "780e0912",
   "metadata": {},
   "outputs": [],
   "source": [
    "search=driver.find_element(By.CLASS_NAME,'search_expend')\n",
    "search.click()"
   ]
  },
  {
   "cell_type": "code",
   "execution_count": 6,
   "id": "c9e00f8d",
   "metadata": {},
   "outputs": [],
   "source": [
    "lis=driver.find_element(By.XPATH,'/html/body/div/div/div/div[1]/div/div[4]/div/div/div/form/div[2]/div/input[1]')\n",
    "lis.send_keys('Prime Ministers of India')"
   ]
  },
  {
   "cell_type": "code",
   "execution_count": 7,
   "id": "df7f2d42",
   "metadata": {},
   "outputs": [],
   "source": [
    "search=driver.find_element(By.XPATH,'/html/body/div/div/div/div[1]/div/div[4]/div/div/div/form/div[2]/div/input[2]')\n",
    "search.click()"
   ]
  },
  {
   "cell_type": "code",
   "execution_count": 8,
   "id": "b4ed010c",
   "metadata": {},
   "outputs": [],
   "source": [
    "click=driver.find_element(By.XPATH,'/html/body/div[1]/div[3]/div/div[2]/div/div[2]/div/div[2]/h2/a')\n",
    "click.click()"
   ]
  },
  {
   "cell_type": "code",
   "execution_count": 12,
   "id": "ae2aac8b",
   "metadata": {},
   "outputs": [
    {
     "ename": "InvalidSelectorException",
     "evalue": "Message: invalid selector: Unable to locate an element with the xpath expression //div[@class=\"table-box\"]/table/tbody/tr/td[2].text because of the following error:\nSyntaxError: Failed to execute 'evaluate' on 'Document': The string '//div[@class=\"table-box\"]/table/tbody/tr/td[2].text' is not a valid XPath expression.\n  (Session info: chrome=113.0.5672.64)\nStacktrace:\nBacktrace:\n\tGetHandleVerifier [0x00BFDCE3+50899]\n\t(No symbol) [0x00B8E111]\n\t(No symbol) [0x00A95588]\n\t(No symbol) [0x00A97EDB]\n\t(No symbol) [0x00A97DB0]\n\t(No symbol) [0x00A98030]\n\t(No symbol) [0x00AC0552]\n\t(No symbol) [0x00AC0AFB]\n\t(No symbol) [0x00AEF93C]\n\t(No symbol) [0x00ADB944]\n\t(No symbol) [0x00AEE01C]\n\t(No symbol) [0x00ADB6F6]\n\t(No symbol) [0x00AB7708]\n\t(No symbol) [0x00AB886D]\n\tGetHandleVerifier [0x00E63EAE+2566302]\n\tGetHandleVerifier [0x00E992B1+2784417]\n\tGetHandleVerifier [0x00E9327C+2759788]\n\tGetHandleVerifier [0x00C95740+672048]\n\t(No symbol) [0x00B98872]\n\t(No symbol) [0x00B941C8]\n\t(No symbol) [0x00B942AB]\n\t(No symbol) [0x00B871B7]\n\tBaseThreadInitThunk [0x76D57D49+25]\n\tRtlInitializeExceptionChain [0x778BB74B+107]\n\tRtlClearBits [0x778BB6CF+191]\n",
     "output_type": "error",
     "traceback": [
      "\u001b[1;31m---------------------------------------------------------------------------\u001b[0m",
      "\u001b[1;31mInvalidSelectorException\u001b[0m                  Traceback (most recent call last)",
      "Input \u001b[1;32mIn [12]\u001b[0m, in \u001b[0;36m<cell line: 2>\u001b[1;34m()\u001b[0m\n\u001b[0;32m      2\u001b[0m row\u001b[38;5;241m=\u001b[39mdriver\u001b[38;5;241m.\u001b[39mfind_elements(By\u001b[38;5;241m.\u001b[39mXPATH,\u001b[38;5;124m'\u001b[39m\u001b[38;5;124m//div[@class=\u001b[39m\u001b[38;5;124m\"\u001b[39m\u001b[38;5;124mtable-box\u001b[39m\u001b[38;5;124m\"\u001b[39m\u001b[38;5;124m]/table/tbody/tr\u001b[39m\u001b[38;5;124m'\u001b[39m)\n\u001b[0;32m      3\u001b[0m \u001b[38;5;28;01mfor\u001b[39;00m rows \u001b[38;5;129;01min\u001b[39;00m row[\u001b[38;5;241m1\u001b[39m:]:\n\u001b[1;32m----> 4\u001b[0m     \u001b[38;5;28mprint\u001b[39m(\u001b[43mdriver\u001b[49m\u001b[38;5;241;43m.\u001b[39;49m\u001b[43mfind_elements\u001b[49m\u001b[43m(\u001b[49m\u001b[43mBy\u001b[49m\u001b[38;5;241;43m.\u001b[39;49m\u001b[43mXPATH\u001b[49m\u001b[43m,\u001b[49m\u001b[38;5;124;43m'\u001b[39;49m\u001b[38;5;124;43m//div[@class=\u001b[39;49m\u001b[38;5;124;43m\"\u001b[39;49m\u001b[38;5;124;43mtable-box\u001b[39;49m\u001b[38;5;124;43m\"\u001b[39;49m\u001b[38;5;124;43m]/table/tbody/tr/td[2].text\u001b[39;49m\u001b[38;5;124;43m'\u001b[39;49m\u001b[43m)\u001b[49m,\u001b[38;5;124m\"\u001b[39m\u001b[38;5;124m \u001b[39m\u001b[38;5;124m\"\u001b[39m)\n\u001b[0;32m      5\u001b[0m     \u001b[38;5;28mprint\u001b[39m(driver\u001b[38;5;241m.\u001b[39mfind_elements(By\u001b[38;5;241m.\u001b[39mXPATH,\u001b[38;5;124m'\u001b[39m\u001b[38;5;124m//div[@class=\u001b[39m\u001b[38;5;124m\"\u001b[39m\u001b[38;5;124mtable-box\u001b[39m\u001b[38;5;124m\"\u001b[39m\u001b[38;5;124m]/table/tbody/tr/td[3].text\u001b[39m\u001b[38;5;124m'\u001b[39m),\u001b[38;5;124m\"\u001b[39m\u001b[38;5;124m \u001b[39m\u001b[38;5;124m\"\u001b[39m)\n\u001b[0;32m      6\u001b[0m     \u001b[38;5;28mprint\u001b[39m(driver\u001b[38;5;241m.\u001b[39mfind_elements(By\u001b[38;5;241m.\u001b[39mXPATH,\u001b[38;5;124m'\u001b[39m\u001b[38;5;124m//div[@class=\u001b[39m\u001b[38;5;124m\"\u001b[39m\u001b[38;5;124mtable-box\u001b[39m\u001b[38;5;124m\"\u001b[39m\u001b[38;5;124m]/table/tbody/tr/td[4].text\u001b[39m\u001b[38;5;124m'\u001b[39m),\u001b[38;5;124m\"\u001b[39m\u001b[38;5;124m \u001b[39m\u001b[38;5;124m\"\u001b[39m)\n",
      "File \u001b[1;32m~\\anaconda3\\lib\\site-packages\\selenium\\webdriver\\remote\\webdriver.py:861\u001b[0m, in \u001b[0;36mWebDriver.find_elements\u001b[1;34m(self, by, value)\u001b[0m\n\u001b[0;32m    857\u001b[0m     value \u001b[38;5;241m=\u001b[39m \u001b[38;5;124mf\u001b[39m\u001b[38;5;124m'\u001b[39m\u001b[38;5;124m[name=\u001b[39m\u001b[38;5;124m\"\u001b[39m\u001b[38;5;132;01m{\u001b[39;00mvalue\u001b[38;5;132;01m}\u001b[39;00m\u001b[38;5;124m\"\u001b[39m\u001b[38;5;124m]\u001b[39m\u001b[38;5;124m'\u001b[39m\n\u001b[0;32m    859\u001b[0m \u001b[38;5;66;03m# Return empty list if driver returns null\u001b[39;00m\n\u001b[0;32m    860\u001b[0m \u001b[38;5;66;03m# See https://github.com/SeleniumHQ/selenium/issues/4555\u001b[39;00m\n\u001b[1;32m--> 861\u001b[0m \u001b[38;5;28;01mreturn\u001b[39;00m \u001b[38;5;28;43mself\u001b[39;49m\u001b[38;5;241;43m.\u001b[39;49m\u001b[43mexecute\u001b[49m\u001b[43m(\u001b[49m\u001b[43mCommand\u001b[49m\u001b[38;5;241;43m.\u001b[39;49m\u001b[43mFIND_ELEMENTS\u001b[49m\u001b[43m,\u001b[49m\u001b[43m \u001b[49m\u001b[43m{\u001b[49m\u001b[38;5;124;43m\"\u001b[39;49m\u001b[38;5;124;43musing\u001b[39;49m\u001b[38;5;124;43m\"\u001b[39;49m\u001b[43m:\u001b[49m\u001b[43m \u001b[49m\u001b[43mby\u001b[49m\u001b[43m,\u001b[49m\u001b[43m \u001b[49m\u001b[38;5;124;43m\"\u001b[39;49m\u001b[38;5;124;43mvalue\u001b[39;49m\u001b[38;5;124;43m\"\u001b[39;49m\u001b[43m:\u001b[49m\u001b[43m \u001b[49m\u001b[43mvalue\u001b[49m\u001b[43m}\u001b[49m\u001b[43m)\u001b[49m[\u001b[38;5;124m\"\u001b[39m\u001b[38;5;124mvalue\u001b[39m\u001b[38;5;124m\"\u001b[39m] \u001b[38;5;129;01mor\u001b[39;00m []\n",
      "File \u001b[1;32m~\\anaconda3\\lib\\site-packages\\selenium\\webdriver\\remote\\webdriver.py:440\u001b[0m, in \u001b[0;36mWebDriver.execute\u001b[1;34m(self, driver_command, params)\u001b[0m\n\u001b[0;32m    438\u001b[0m response \u001b[38;5;241m=\u001b[39m \u001b[38;5;28mself\u001b[39m\u001b[38;5;241m.\u001b[39mcommand_executor\u001b[38;5;241m.\u001b[39mexecute(driver_command, params)\n\u001b[0;32m    439\u001b[0m \u001b[38;5;28;01mif\u001b[39;00m response:\n\u001b[1;32m--> 440\u001b[0m     \u001b[38;5;28;43mself\u001b[39;49m\u001b[38;5;241;43m.\u001b[39;49m\u001b[43merror_handler\u001b[49m\u001b[38;5;241;43m.\u001b[39;49m\u001b[43mcheck_response\u001b[49m\u001b[43m(\u001b[49m\u001b[43mresponse\u001b[49m\u001b[43m)\u001b[49m\n\u001b[0;32m    441\u001b[0m     response[\u001b[38;5;124m\"\u001b[39m\u001b[38;5;124mvalue\u001b[39m\u001b[38;5;124m\"\u001b[39m] \u001b[38;5;241m=\u001b[39m \u001b[38;5;28mself\u001b[39m\u001b[38;5;241m.\u001b[39m_unwrap_value(response\u001b[38;5;241m.\u001b[39mget(\u001b[38;5;124m\"\u001b[39m\u001b[38;5;124mvalue\u001b[39m\u001b[38;5;124m\"\u001b[39m, \u001b[38;5;28;01mNone\u001b[39;00m))\n\u001b[0;32m    442\u001b[0m     \u001b[38;5;28;01mreturn\u001b[39;00m response\n",
      "File \u001b[1;32m~\\anaconda3\\lib\\site-packages\\selenium\\webdriver\\remote\\errorhandler.py:245\u001b[0m, in \u001b[0;36mErrorHandler.check_response\u001b[1;34m(self, response)\u001b[0m\n\u001b[0;32m    243\u001b[0m         alert_text \u001b[38;5;241m=\u001b[39m value[\u001b[38;5;124m\"\u001b[39m\u001b[38;5;124malert\u001b[39m\u001b[38;5;124m\"\u001b[39m]\u001b[38;5;241m.\u001b[39mget(\u001b[38;5;124m\"\u001b[39m\u001b[38;5;124mtext\u001b[39m\u001b[38;5;124m\"\u001b[39m)\n\u001b[0;32m    244\u001b[0m     \u001b[38;5;28;01mraise\u001b[39;00m exception_class(message, screen, stacktrace, alert_text)  \u001b[38;5;66;03m# type: ignore[call-arg]  # mypy is not smart enough here\u001b[39;00m\n\u001b[1;32m--> 245\u001b[0m \u001b[38;5;28;01mraise\u001b[39;00m exception_class(message, screen, stacktrace)\n",
      "\u001b[1;31mInvalidSelectorException\u001b[0m: Message: invalid selector: Unable to locate an element with the xpath expression //div[@class=\"table-box\"]/table/tbody/tr/td[2].text because of the following error:\nSyntaxError: Failed to execute 'evaluate' on 'Document': The string '//div[@class=\"table-box\"]/table/tbody/tr/td[2].text' is not a valid XPath expression.\n  (Session info: chrome=113.0.5672.64)\nStacktrace:\nBacktrace:\n\tGetHandleVerifier [0x00BFDCE3+50899]\n\t(No symbol) [0x00B8E111]\n\t(No symbol) [0x00A95588]\n\t(No symbol) [0x00A97EDB]\n\t(No symbol) [0x00A97DB0]\n\t(No symbol) [0x00A98030]\n\t(No symbol) [0x00AC0552]\n\t(No symbol) [0x00AC0AFB]\n\t(No symbol) [0x00AEF93C]\n\t(No symbol) [0x00ADB944]\n\t(No symbol) [0x00AEE01C]\n\t(No symbol) [0x00ADB6F6]\n\t(No symbol) [0x00AB7708]\n\t(No symbol) [0x00AB886D]\n\tGetHandleVerifier [0x00E63EAE+2566302]\n\tGetHandleVerifier [0x00E992B1+2784417]\n\tGetHandleVerifier [0x00E9327C+2759788]\n\tGetHandleVerifier [0x00C95740+672048]\n\t(No symbol) [0x00B98872]\n\t(No symbol) [0x00B941C8]\n\t(No symbol) [0x00B942AB]\n\t(No symbol) [0x00B871B7]\n\tBaseThreadInitThunk [0x76D57D49+25]\n\tRtlInitializeExceptionChain [0x778BB74B+107]\n\tRtlClearBits [0x778BB6CF+191]\n"
     ]
    }
   ],
   "source": [
    "while(True):\n",
    "    row=driver.find_elements(By.XPATH,'//div[@class=\"table-box\"]/table/tbody/tr')\n",
    "    for rows in row[1:]:\n",
    "        print(driver.find_elements(By.XPATH,'//div[@class=\"table-box\"]/table/tbody/tr/td[2].text'),\" \")\n",
    "        print(driver.find_elements(By.XPATH,'//div[@class=\"table-box\"]/table/tbody/tr/td[3].text'),\" \")\n",
    "        print(driver.find_elements(By.XPATH,'//div[@class=\"table-box\"]/table/tbody/tr/td[4].text'),\" \")\n",
    "        print(\"\\n\")\n",
    "    else:\n",
    "        break\n",
    "        "
   ]
  },
  {
   "cell_type": "code",
   "execution_count": 16,
   "id": "b1e6fe45",
   "metadata": {},
   "outputs": [
    {
     "name": "stdout",
     "output_type": "stream",
     "text": [
      "(1889–1964) \n",
      "\n",
      "15 August 1947 to 27 May 1964\n",
      "16 years, 286 days \n",
      "\n",
      "The first prime minister of India and the longest-serving PM of India, the first to die in office. \n",
      "\n",
      "(1898-1998) \n",
      "\n",
      "27 May 1964 to 9 June 1964,\n",
      "13 days \n",
      "\n",
      "First acting PM of India \n",
      "\n",
      "(1904–1966) \n",
      "\n",
      "9 June 1964 to 11 January 1966\n",
      "1 year, 216 days \n",
      "\n",
      "He has given the slogan of 'Jai Jawan Jai Kisan' during the Indo-Pak war of 1965 \n",
      "\n",
      "(1898-1998) \n",
      "\n",
      "11 January 1966 to 24 January 1966\n",
      "13 days \n",
      "\n",
      "- \n",
      "\n",
      "(1917–1984) \n",
      "\n",
      "24 January 1966 to 24 March 1977\n",
      "11 years, 59 days \n",
      "\n",
      "First female Prime Minister of India \n",
      "\n",
      "(1896–1995) \n",
      "\n",
      "24 March 1977 to  28 July 1979 \n",
      "2 year, 126 days \n",
      "\n",
      "Oldest to become PM (81 years old) and first to resign from office \n",
      "\n",
      "(1902–1987) \n",
      "\n",
      "28 July 1979 to 14 January 1980\n",
      "170 days \n",
      "\n",
      "Only PM who did not face the Parliament \n",
      "\n",
      "(1917–1984) \n",
      "\n",
      "14 January 1980 to 31 October 1984\n",
      "4 years, 291 days \n",
      "\n",
      "The first lady who served as PM for the second term \n",
      "\n",
      "(1944–1991) \n",
      "\n",
      "31 October 1984 to 2 December 1989\n",
      "5 years, 32 days \n",
      "\n",
      "Youngest to become PM (40 years old) \n",
      "\n",
      "(1931–2008) \n",
      "\n",
      "2 December 1989 to 10 November 1990\n",
      "343 days \n",
      "\n",
      "First PM to step down after a vote of no confidence \n",
      "\n",
      "(1927–2007) \n",
      "\n",
      "10 November 1990 to 21 June 1991\n",
      "223 days \n",
      "\n",
      "He belongs to  Samajwadi Janata Party \n",
      "\n",
      "(1921–2004) \n",
      "\n",
      "21 June 1991 to 16 May 1996\n",
      "4 years, 330 days \n",
      "\n",
      "First PM from south India \n",
      "\n",
      "(1924- 2018) \n",
      "\n",
      "16 May 1996 to 1 June 1996\n",
      "16 days \n",
      "\n",
      "PM for shortest tenure \n",
      "\n",
      "(born 1933) \n",
      "\n",
      "1 June 1996 to 21 April 1997\n",
      "324 days \n",
      "\n",
      "He belongs to  Janata Dal \n",
      "\n",
      "(1919–2012) \n",
      "\n",
      "21 April 1997 to 19 March 1998 \n",
      "332 days \n",
      "\n",
      "------ \n",
      "\n",
      "(1924-2018) \n",
      "\n",
      "19 March 1998 to 22 May 2004 \n",
      "6 years, 64 days \n",
      "\n",
      " The first non-congress PM who completed a full term as PM \n",
      "\n",
      "(born 1932) \n",
      "\n",
      "22 May 2004 to 26 May 2014   \n",
      "10 years, 4 days \n",
      "\n",
      " First Sikh PM \n",
      "\n",
      "(born 1950) \n",
      "\n",
      "26 May 2014 - Present \n",
      "\n",
      "4th Prime Minister of India who served two consecutive tenures \n",
      "\n"
     ]
    }
   ],
   "source": [
    "table=driver.find_element(By.CLASS_NAME,'table-box')\n",
    "rows=table.find_elements(By.TAG_NAME,'tr')\n",
    "data=[]\n",
    "for row in rows:\n",
    "    cells=row.find_elements(By.TAG_NAME,'td')\n",
    "    row_data=[]\n",
    "    for cell in cells[2:]:\n",
    "        row_data.append(cell.text)\n",
    "        print(cell.text,\"\\n\")\n",
    "    data.append(row_data)\n",
    "   "
   ]
  },
  {
   "cell_type": "code",
   "execution_count": null,
   "id": "117860c3",
   "metadata": {},
   "outputs": [],
   "source": []
  },
  {
   "cell_type": "code",
   "execution_count": null,
   "id": "c47dc89f",
   "metadata": {},
   "outputs": [],
   "source": [
    "#Question 10"
   ]
  },
  {
   "cell_type": "code",
   "execution_count": 9,
   "id": "2c7aa826",
   "metadata": {},
   "outputs": [],
   "source": [
    "driver=webdriver.Chrome(r'C:\\Users\\hanis\\Downloads\\chromedriver_win32\\chromedriver.exe')"
   ]
  },
  {
   "cell_type": "code",
   "execution_count": 10,
   "id": "ff6f369c",
   "metadata": {},
   "outputs": [],
   "source": [
    "driver.get('https://www.motor1.com/')"
   ]
  },
  {
   "cell_type": "code",
   "execution_count": 18,
   "id": "7fc054fd",
   "metadata": {},
   "outputs": [],
   "source": [
    "search=driver.find_element(By.XPATH,'/html/body/div[3]/div[2]/div/div/div[3]/div/div/div/form/input')\n",
    "search.send_keys('Most expensive 50 cars')"
   ]
  },
  {
   "cell_type": "code",
   "execution_count": 19,
   "id": "72fd54a4",
   "metadata": {},
   "outputs": [],
   "source": [
    "click=driver.find_element(By.XPATH,'/html/body/div[3]/div[2]/div/div/div[3]/div/div/div/form/button[1]')\n",
    "click.click()"
   ]
  },
  {
   "cell_type": "code",
   "execution_count": 20,
   "id": "9c48bcba",
   "metadata": {},
   "outputs": [],
   "source": [
    "s=driver.find_element(By.XPATH,'/html/body/div[3]/div[9]/div/div[1]/div/div/div[2]/div/div[1]/h3/a')\n",
    "s.click()"
   ]
  },
  {
   "cell_type": "code",
   "execution_count": 37,
   "id": "fc6491f3",
   "metadata": {},
   "outputs": [],
   "source": [
    "car_name=[]\n",
    "tags=driver.find_elements(By.XPATH,'//h3[@class=\"subheader\"]')\n",
    "for i in tags[0:50]:\n",
    "    car_name.append(i.text)\n",
    "    \n",
    "    "
   ]
  },
  {
   "cell_type": "code",
   "execution_count": 39,
   "id": "19e1f741",
   "metadata": {},
   "outputs": [
    {
     "data": {
      "text/plain": [
       "['De Tomaso P72',\n",
       " 'Ferrari LaFerrari',\n",
       " 'Pagani Huayra',\n",
       " 'McLaren Elva',\n",
       " 'Czinger 21C',\n",
       " 'Ferrari Monza',\n",
       " 'Gordon Murray T.33',\n",
       " 'Koenigsegg Gemera',\n",
       " 'Zenvo TSR-S',\n",
       " 'Hennessey Venom F5',\n",
       " 'Bentley Bacalar',\n",
       " 'Hispano Suiza Carmen Boulogne',\n",
       " 'Bentley Mulliner Batur',\n",
       " 'Deus Vayanne',\n",
       " 'SSC Tuatara',\n",
       " 'Lotus Evija',\n",
       " 'Aston Martin Vulcan',\n",
       " 'Delage D12',\n",
       " 'McLaren Speedtail',\n",
       " 'Rimac Nevera',\n",
       " 'Pagani Utopia',\n",
       " 'Pininfarina Battista',\n",
       " 'Ferrari FXX K Evo',\n",
       " 'Gordon Murray T.50',\n",
       " 'Lamborghini Countach',\n",
       " 'Mercedes-AMG Project One',\n",
       " 'Aston Martin Victor',\n",
       " 'Hennessey Venom F5 Roadster',\n",
       " 'Koenigsegg Jesko',\n",
       " 'Aston Martin Valkyrie',\n",
       " 'W Motors Lykan Hypersport',\n",
       " 'McLaren Solus',\n",
       " 'Pagani Huayra Roadster BC',\n",
       " 'Bugatti Chiron Pur Sport',\n",
       " 'Lamborghini Sian',\n",
       " 'Koenigsegg CC850',\n",
       " 'Bugatti Chiron Super Sport 300+',\n",
       " 'Lamborghini Veneno',\n",
       " 'Bugatti Bolide',\n",
       " 'Bugatti Mistral',\n",
       " 'Pagani Huayra Imola',\n",
       " 'Bugatti Divo',\n",
       " 'SP Automotive Chaos',\n",
       " 'Pagani Codalunga',\n",
       " 'Mercedes-Maybach Exelero',\n",
       " 'Bugatti Centodieci',\n",
       " 'Bugatti Chiron Profilée',\n",
       " 'Rolls-Royce Sweptail',\n",
       " 'Bugatti La Voiture Noire',\n",
       " 'Rolls-Royce Boat Tail*']"
      ]
     },
     "execution_count": 39,
     "metadata": {},
     "output_type": "execute_result"
    }
   ],
   "source": [
    "car_name"
   ]
  },
  {
   "cell_type": "code",
   "execution_count": 40,
   "id": "b7e73683",
   "metadata": {},
   "outputs": [
    {
     "data": {
      "text/plain": [
       "50"
      ]
     },
     "execution_count": 40,
     "metadata": {},
     "output_type": "execute_result"
    }
   ],
   "source": [
    "len(car_name)"
   ]
  },
  {
   "cell_type": "code",
   "execution_count": 44,
   "id": "858ad71e",
   "metadata": {},
   "outputs": [
    {
     "data": {
      "text/plain": [
       "['Price: $1.3 Million',\n",
       " 'Price: $1.4 Million',\n",
       " 'Price: $1.4 Million',\n",
       " '',\n",
       " 'Price: $1.7 Million',\n",
       " 'Price: $1.7 Million',\n",
       " 'Price: $1.7 Million',\n",
       " 'Price: $1.7 Million',\n",
       " 'Price: $1.7 Million',\n",
       " 'Price: $1.7 Million',\n",
       " 'Price: $1.8 Million',\n",
       " 'Price: $1.9 Million',\n",
       " 'Price: $1.9 Million',\n",
       " 'Price: $2.0 Million',\n",
       " 'Price: $2.0 Million',\n",
       " 'Price: $2.0 Million*',\n",
       " 'Price: $2.1 Million',\n",
       " 'Price: $2.3 Million',\n",
       " 'Price: $2.3 Million',\n",
       " 'Price: $2.3 Million',\n",
       " 'Price: $2.4 Million',\n",
       " 'Price: $2.5 Million',\n",
       " 'Price: $2.5 Million',\n",
       " 'Price: $2.6 Million',\n",
       " 'Price: $2.6 Million',\n",
       " 'Price: $2.6 Million',\n",
       " 'Price: $2.7 Million',\n",
       " 'Price: $3.0 Million',\n",
       " '$3.0 Million',\n",
       " 'Price: $3.0 Million',\n",
       " 'Price: $3.2 Million',\n",
       " 'Price: $3.4 Million',\n",
       " '$3.5 Million',\n",
       " 'Price: $3.5 Million',\n",
       " 'Price: $3.6 Million',\n",
       " 'Price: $3.6 million',\n",
       " 'Price: $3.7 Million',\n",
       " 'Price: $3.9 Million',\n",
       " 'Price: $4.5 Million',\n",
       " 'Price: $4.7 Million',\n",
       " 'Price: $5.0 Million',\n",
       " 'Price: $5.4 Million',\n",
       " 'Price: $5.8 Million',\n",
       " 'Price: $6.4 Million',\n",
       " 'Price: $7.4 Million',\n",
       " 'Price: $8.0 Million',\n",
       " 'Price: $9.0 Million',\n",
       " 'Price: $10.8 Million',\n",
       " 'Price: $12.8 Million',\n",
       " 'Price: $13.4 Million']"
      ]
     },
     "execution_count": 44,
     "metadata": {},
     "output_type": "execute_result"
    }
   ],
   "source": [
    "price=[]\n",
    "tag=driver.find_elements(By.TAG_NAME,'strong')\n",
    "for i in tag[0:50]:\n",
    "    price.append(i.text)\n",
    "    \n",
    "price    "
   ]
  },
  {
   "cell_type": "code",
   "execution_count": 45,
   "id": "67a9441d",
   "metadata": {},
   "outputs": [
    {
     "data": {
      "text/html": [
       "<div>\n",
       "<style scoped>\n",
       "    .dataframe tbody tr th:only-of-type {\n",
       "        vertical-align: middle;\n",
       "    }\n",
       "\n",
       "    .dataframe tbody tr th {\n",
       "        vertical-align: top;\n",
       "    }\n",
       "\n",
       "    .dataframe thead th {\n",
       "        text-align: right;\n",
       "    }\n",
       "</style>\n",
       "<table border=\"1\" class=\"dataframe\">\n",
       "  <thead>\n",
       "    <tr style=\"text-align: right;\">\n",
       "      <th></th>\n",
       "      <th>Car Name</th>\n",
       "      <th>Price</th>\n",
       "    </tr>\n",
       "  </thead>\n",
       "  <tbody>\n",
       "    <tr>\n",
       "      <th>0</th>\n",
       "      <td>De Tomaso P72</td>\n",
       "      <td>Price: $1.3 Million</td>\n",
       "    </tr>\n",
       "    <tr>\n",
       "      <th>1</th>\n",
       "      <td>Ferrari LaFerrari</td>\n",
       "      <td>Price: $1.4 Million</td>\n",
       "    </tr>\n",
       "    <tr>\n",
       "      <th>2</th>\n",
       "      <td>Pagani Huayra</td>\n",
       "      <td>Price: $1.4 Million</td>\n",
       "    </tr>\n",
       "    <tr>\n",
       "      <th>3</th>\n",
       "      <td>McLaren Elva</td>\n",
       "      <td></td>\n",
       "    </tr>\n",
       "    <tr>\n",
       "      <th>4</th>\n",
       "      <td>Czinger 21C</td>\n",
       "      <td>Price: $1.7 Million</td>\n",
       "    </tr>\n",
       "    <tr>\n",
       "      <th>5</th>\n",
       "      <td>Ferrari Monza</td>\n",
       "      <td>Price: $1.7 Million</td>\n",
       "    </tr>\n",
       "    <tr>\n",
       "      <th>6</th>\n",
       "      <td>Gordon Murray T.33</td>\n",
       "      <td>Price: $1.7 Million</td>\n",
       "    </tr>\n",
       "    <tr>\n",
       "      <th>7</th>\n",
       "      <td>Koenigsegg Gemera</td>\n",
       "      <td>Price: $1.7 Million</td>\n",
       "    </tr>\n",
       "    <tr>\n",
       "      <th>8</th>\n",
       "      <td>Zenvo TSR-S</td>\n",
       "      <td>Price: $1.7 Million</td>\n",
       "    </tr>\n",
       "    <tr>\n",
       "      <th>9</th>\n",
       "      <td>Hennessey Venom F5</td>\n",
       "      <td>Price: $1.7 Million</td>\n",
       "    </tr>\n",
       "    <tr>\n",
       "      <th>10</th>\n",
       "      <td>Bentley Bacalar</td>\n",
       "      <td>Price: $1.8 Million</td>\n",
       "    </tr>\n",
       "    <tr>\n",
       "      <th>11</th>\n",
       "      <td>Hispano Suiza Carmen Boulogne</td>\n",
       "      <td>Price: $1.9 Million</td>\n",
       "    </tr>\n",
       "    <tr>\n",
       "      <th>12</th>\n",
       "      <td>Bentley Mulliner Batur</td>\n",
       "      <td>Price: $1.9 Million</td>\n",
       "    </tr>\n",
       "    <tr>\n",
       "      <th>13</th>\n",
       "      <td>Deus Vayanne</td>\n",
       "      <td>Price: $2.0 Million</td>\n",
       "    </tr>\n",
       "    <tr>\n",
       "      <th>14</th>\n",
       "      <td>SSC Tuatara</td>\n",
       "      <td>Price: $2.0 Million</td>\n",
       "    </tr>\n",
       "    <tr>\n",
       "      <th>15</th>\n",
       "      <td>Lotus Evija</td>\n",
       "      <td>Price: $2.0 Million*</td>\n",
       "    </tr>\n",
       "    <tr>\n",
       "      <th>16</th>\n",
       "      <td>Aston Martin Vulcan</td>\n",
       "      <td>Price: $2.1 Million</td>\n",
       "    </tr>\n",
       "    <tr>\n",
       "      <th>17</th>\n",
       "      <td>Delage D12</td>\n",
       "      <td>Price: $2.3 Million</td>\n",
       "    </tr>\n",
       "    <tr>\n",
       "      <th>18</th>\n",
       "      <td>McLaren Speedtail</td>\n",
       "      <td>Price: $2.3 Million</td>\n",
       "    </tr>\n",
       "    <tr>\n",
       "      <th>19</th>\n",
       "      <td>Rimac Nevera</td>\n",
       "      <td>Price: $2.3 Million</td>\n",
       "    </tr>\n",
       "    <tr>\n",
       "      <th>20</th>\n",
       "      <td>Pagani Utopia</td>\n",
       "      <td>Price: $2.4 Million</td>\n",
       "    </tr>\n",
       "    <tr>\n",
       "      <th>21</th>\n",
       "      <td>Pininfarina Battista</td>\n",
       "      <td>Price: $2.5 Million</td>\n",
       "    </tr>\n",
       "    <tr>\n",
       "      <th>22</th>\n",
       "      <td>Ferrari FXX K Evo</td>\n",
       "      <td>Price: $2.5 Million</td>\n",
       "    </tr>\n",
       "    <tr>\n",
       "      <th>23</th>\n",
       "      <td>Gordon Murray T.50</td>\n",
       "      <td>Price: $2.6 Million</td>\n",
       "    </tr>\n",
       "    <tr>\n",
       "      <th>24</th>\n",
       "      <td>Lamborghini Countach</td>\n",
       "      <td>Price: $2.6 Million</td>\n",
       "    </tr>\n",
       "    <tr>\n",
       "      <th>25</th>\n",
       "      <td>Mercedes-AMG Project One</td>\n",
       "      <td>Price: $2.6 Million</td>\n",
       "    </tr>\n",
       "    <tr>\n",
       "      <th>26</th>\n",
       "      <td>Aston Martin Victor</td>\n",
       "      <td>Price: $2.7 Million</td>\n",
       "    </tr>\n",
       "    <tr>\n",
       "      <th>27</th>\n",
       "      <td>Hennessey Venom F5 Roadster</td>\n",
       "      <td>Price: $3.0 Million</td>\n",
       "    </tr>\n",
       "    <tr>\n",
       "      <th>28</th>\n",
       "      <td>Koenigsegg Jesko</td>\n",
       "      <td>$3.0 Million</td>\n",
       "    </tr>\n",
       "    <tr>\n",
       "      <th>29</th>\n",
       "      <td>Aston Martin Valkyrie</td>\n",
       "      <td>Price: $3.0 Million</td>\n",
       "    </tr>\n",
       "    <tr>\n",
       "      <th>30</th>\n",
       "      <td>W Motors Lykan Hypersport</td>\n",
       "      <td>Price: $3.2 Million</td>\n",
       "    </tr>\n",
       "    <tr>\n",
       "      <th>31</th>\n",
       "      <td>McLaren Solus</td>\n",
       "      <td>Price: $3.4 Million</td>\n",
       "    </tr>\n",
       "    <tr>\n",
       "      <th>32</th>\n",
       "      <td>Pagani Huayra Roadster BC</td>\n",
       "      <td>$3.5 Million</td>\n",
       "    </tr>\n",
       "    <tr>\n",
       "      <th>33</th>\n",
       "      <td>Bugatti Chiron Pur Sport</td>\n",
       "      <td>Price: $3.5 Million</td>\n",
       "    </tr>\n",
       "    <tr>\n",
       "      <th>34</th>\n",
       "      <td>Lamborghini Sian</td>\n",
       "      <td>Price: $3.6 Million</td>\n",
       "    </tr>\n",
       "    <tr>\n",
       "      <th>35</th>\n",
       "      <td>Koenigsegg CC850</td>\n",
       "      <td>Price: $3.6 million</td>\n",
       "    </tr>\n",
       "    <tr>\n",
       "      <th>36</th>\n",
       "      <td>Bugatti Chiron Super Sport 300+</td>\n",
       "      <td>Price: $3.7 Million</td>\n",
       "    </tr>\n",
       "    <tr>\n",
       "      <th>37</th>\n",
       "      <td>Lamborghini Veneno</td>\n",
       "      <td>Price: $3.9 Million</td>\n",
       "    </tr>\n",
       "    <tr>\n",
       "      <th>38</th>\n",
       "      <td>Bugatti Bolide</td>\n",
       "      <td>Price: $4.5 Million</td>\n",
       "    </tr>\n",
       "    <tr>\n",
       "      <th>39</th>\n",
       "      <td>Bugatti Mistral</td>\n",
       "      <td>Price: $4.7 Million</td>\n",
       "    </tr>\n",
       "    <tr>\n",
       "      <th>40</th>\n",
       "      <td>Pagani Huayra Imola</td>\n",
       "      <td>Price: $5.0 Million</td>\n",
       "    </tr>\n",
       "    <tr>\n",
       "      <th>41</th>\n",
       "      <td>Bugatti Divo</td>\n",
       "      <td>Price: $5.4 Million</td>\n",
       "    </tr>\n",
       "    <tr>\n",
       "      <th>42</th>\n",
       "      <td>SP Automotive Chaos</td>\n",
       "      <td>Price: $5.8 Million</td>\n",
       "    </tr>\n",
       "    <tr>\n",
       "      <th>43</th>\n",
       "      <td>Pagani Codalunga</td>\n",
       "      <td>Price: $6.4 Million</td>\n",
       "    </tr>\n",
       "    <tr>\n",
       "      <th>44</th>\n",
       "      <td>Mercedes-Maybach Exelero</td>\n",
       "      <td>Price: $7.4 Million</td>\n",
       "    </tr>\n",
       "    <tr>\n",
       "      <th>45</th>\n",
       "      <td>Bugatti Centodieci</td>\n",
       "      <td>Price: $8.0 Million</td>\n",
       "    </tr>\n",
       "    <tr>\n",
       "      <th>46</th>\n",
       "      <td>Bugatti Chiron Profilée</td>\n",
       "      <td>Price: $9.0 Million</td>\n",
       "    </tr>\n",
       "    <tr>\n",
       "      <th>47</th>\n",
       "      <td>Rolls-Royce Sweptail</td>\n",
       "      <td>Price: $10.8 Million</td>\n",
       "    </tr>\n",
       "    <tr>\n",
       "      <th>48</th>\n",
       "      <td>Bugatti La Voiture Noire</td>\n",
       "      <td>Price: $12.8 Million</td>\n",
       "    </tr>\n",
       "    <tr>\n",
       "      <th>49</th>\n",
       "      <td>Rolls-Royce Boat Tail*</td>\n",
       "      <td>Price: $13.4 Million</td>\n",
       "    </tr>\n",
       "  </tbody>\n",
       "</table>\n",
       "</div>"
      ],
      "text/plain": [
       "                           Car Name                 Price\n",
       "0                     De Tomaso P72   Price: $1.3 Million\n",
       "1                 Ferrari LaFerrari   Price: $1.4 Million\n",
       "2                     Pagani Huayra   Price: $1.4 Million\n",
       "3                      McLaren Elva                      \n",
       "4                       Czinger 21C   Price: $1.7 Million\n",
       "5                     Ferrari Monza   Price: $1.7 Million\n",
       "6                Gordon Murray T.33   Price: $1.7 Million\n",
       "7                 Koenigsegg Gemera   Price: $1.7 Million\n",
       "8                       Zenvo TSR-S   Price: $1.7 Million\n",
       "9                Hennessey Venom F5   Price: $1.7 Million\n",
       "10                  Bentley Bacalar   Price: $1.8 Million\n",
       "11    Hispano Suiza Carmen Boulogne   Price: $1.9 Million\n",
       "12           Bentley Mulliner Batur   Price: $1.9 Million\n",
       "13                     Deus Vayanne   Price: $2.0 Million\n",
       "14                      SSC Tuatara   Price: $2.0 Million\n",
       "15                      Lotus Evija  Price: $2.0 Million*\n",
       "16              Aston Martin Vulcan   Price: $2.1 Million\n",
       "17                       Delage D12   Price: $2.3 Million\n",
       "18                McLaren Speedtail   Price: $2.3 Million\n",
       "19                     Rimac Nevera   Price: $2.3 Million\n",
       "20                    Pagani Utopia   Price: $2.4 Million\n",
       "21             Pininfarina Battista   Price: $2.5 Million\n",
       "22                Ferrari FXX K Evo   Price: $2.5 Million\n",
       "23               Gordon Murray T.50   Price: $2.6 Million\n",
       "24             Lamborghini Countach   Price: $2.6 Million\n",
       "25         Mercedes-AMG Project One   Price: $2.6 Million\n",
       "26              Aston Martin Victor   Price: $2.7 Million\n",
       "27      Hennessey Venom F5 Roadster   Price: $3.0 Million\n",
       "28                 Koenigsegg Jesko          $3.0 Million\n",
       "29            Aston Martin Valkyrie   Price: $3.0 Million\n",
       "30        W Motors Lykan Hypersport   Price: $3.2 Million\n",
       "31                    McLaren Solus   Price: $3.4 Million\n",
       "32        Pagani Huayra Roadster BC          $3.5 Million\n",
       "33         Bugatti Chiron Pur Sport   Price: $3.5 Million\n",
       "34                 Lamborghini Sian   Price: $3.6 Million\n",
       "35                 Koenigsegg CC850   Price: $3.6 million\n",
       "36  Bugatti Chiron Super Sport 300+   Price: $3.7 Million\n",
       "37               Lamborghini Veneno   Price: $3.9 Million\n",
       "38                   Bugatti Bolide   Price: $4.5 Million\n",
       "39                  Bugatti Mistral   Price: $4.7 Million\n",
       "40              Pagani Huayra Imola   Price: $5.0 Million\n",
       "41                     Bugatti Divo   Price: $5.4 Million\n",
       "42              SP Automotive Chaos   Price: $5.8 Million\n",
       "43                 Pagani Codalunga   Price: $6.4 Million\n",
       "44         Mercedes-Maybach Exelero   Price: $7.4 Million\n",
       "45               Bugatti Centodieci   Price: $8.0 Million\n",
       "46          Bugatti Chiron Profilée   Price: $9.0 Million\n",
       "47             Rolls-Royce Sweptail  Price: $10.8 Million\n",
       "48         Bugatti La Voiture Noire  Price: $12.8 Million\n",
       "49           Rolls-Royce Boat Tail*  Price: $13.4 Million"
      ]
     },
     "execution_count": 45,
     "metadata": {},
     "output_type": "execute_result"
    }
   ],
   "source": [
    "df=pd.DataFrame(columns=['Car Name','Price'])\n",
    "df['Car Name']=car_name\n",
    "df['Price']=price\n",
    "df"
   ]
  },
  {
   "cell_type": "code",
   "execution_count": null,
   "id": "a4b6b9f2",
   "metadata": {},
   "outputs": [],
   "source": []
  }
 ],
 "metadata": {
  "kernelspec": {
   "display_name": "Python 3 (ipykernel)",
   "language": "python",
   "name": "python3"
  },
  "language_info": {
   "codemirror_mode": {
    "name": "ipython",
    "version": 3
   },
   "file_extension": ".py",
   "mimetype": "text/x-python",
   "name": "python",
   "nbconvert_exporter": "python",
   "pygments_lexer": "ipython3",
   "version": "3.9.12"
  }
 },
 "nbformat": 4,
 "nbformat_minor": 5
}
