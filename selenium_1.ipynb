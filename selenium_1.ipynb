{
 "cells": [
  {
   "cell_type": "code",
   "execution_count": 1,
   "id": "d698b2e8",
   "metadata": {},
   "outputs": [],
   "source": [
    "import numpy as np\n",
    "import pandas as pd\n",
    "from selenium import webdriver\n",
    "from selenium.webdriver.common.by import By\n",
    "from bs4 import BeautifulSoup\n",
    "import requests\n",
    "import time\n",
    "\n",
    "import warnings\n",
    "warnings.filterwarnings('ignore')"
   ]
  },
  {
   "cell_type": "code",
   "execution_count": 16,
   "id": "62457b82",
   "metadata": {},
   "outputs": [],
   "source": [
    "driver=webdriver.Chrome(r'C:\\Users\\hanis\\Downloads\\chromedriver_win32\\chromedriver.exe')"
   ]
  },
  {
   "cell_type": "code",
   "execution_count": null,
   "id": "16753bd3",
   "metadata": {},
   "outputs": [],
   "source": [
    "#Question 1"
   ]
  },
  {
   "cell_type": "code",
   "execution_count": 3,
   "id": "6f815137",
   "metadata": {},
   "outputs": [],
   "source": [
    "driver.get('https://www.amazon.in/')"
   ]
  },
  {
   "cell_type": "code",
   "execution_count": 4,
   "id": "47cbcc2e",
   "metadata": {},
   "outputs": [
    {
     "name": "stdout",
     "output_type": "stream",
     "text": [
      "Enter which product you want to search guitar\n"
     ]
    }
   ],
   "source": [
    "search=input(\"Enter which product you want to search \")"
   ]
  },
  {
   "cell_type": "code",
   "execution_count": 7,
   "id": "a3024036",
   "metadata": {},
   "outputs": [],
   "source": [
    "search_tag=driver.find_element(By.XPATH,'/html/body/div[1]/header/div/div[1]/div[2]/div/form/div[2]/div[1]/input')\n",
    "search_tag.send_keys(search)"
   ]
  },
  {
   "cell_type": "code",
   "execution_count": 8,
   "id": "320a56ea",
   "metadata": {},
   "outputs": [],
   "source": [
    "click=driver.find_element(By.ID,'nav-search-submit-button')\n",
    "click.click()"
   ]
  },
  {
   "cell_type": "code",
   "execution_count": null,
   "id": "506bfecf",
   "metadata": {},
   "outputs": [],
   "source": []
  },
  {
   "cell_type": "code",
   "execution_count": null,
   "id": "85a2fd74",
   "metadata": {},
   "outputs": [],
   "source": []
  },
  {
   "cell_type": "code",
   "execution_count": null,
   "id": "467e4990",
   "metadata": {},
   "outputs": [],
   "source": [
    "#Question 2"
   ]
  },
  {
   "cell_type": "code",
   "execution_count": 9,
   "id": "67718236",
   "metadata": {},
   "outputs": [
    {
     "data": {
      "text/plain": [
       "159"
      ]
     },
     "execution_count": 9,
     "metadata": {},
     "output_type": "execute_result"
    }
   ],
   "source": [
    "i=1\n",
    "links=[]\n",
    "while(i<=3):\n",
    "    tags=driver.find_elements(By.XPATH,'//a[@class=\"a-link-normal s-underline-text s-underline-link-text s-link-style a-text-normal\"]')\n",
    "    for j in tags:\n",
    "        href=j.get_attribute('href')\n",
    "        links.append(href)\n",
    "    i=i+1 \n",
    "    button=driver.find_element(By.XPATH,'//a[@class=\"s-pagination-item s-pagination-next s-pagination-button s-pagination-separator\"]')\n",
    "    click=button.get_attribute('href')\n",
    "    driver.get(click)\n",
    "    \n",
    "len(links)    "
   ]
  },
  {
   "cell_type": "code",
   "execution_count": 11,
   "id": "a6be0838",
   "metadata": {},
   "outputs": [
    {
     "data": {
      "text/plain": [
       "159"
      ]
     },
     "execution_count": 11,
     "metadata": {},
     "output_type": "execute_result"
    }
   ],
   "source": [
    "#Brand Name\n",
    "b_name=[]\n",
    "for i in links:\n",
    "    try:\n",
    "        \n",
    "        driver.get(i)\n",
    "        tags=driver.find_element(By.XPATH,'//span[@class=\"a-size-base po-break-word\"]')\n",
    "        b_name.append(tags.text)\n",
    "    except:\n",
    "            b_name.append('-')\n",
    "        \n",
    "    \n",
    "len(b_name)   "
   ]
  },
  {
   "cell_type": "code",
   "execution_count": null,
   "id": "7d23f949",
   "metadata": {},
   "outputs": [],
   "source": [
    "b_name"
   ]
  },
  {
   "cell_type": "code",
   "execution_count": 10,
   "id": "83d4d1da",
   "metadata": {},
   "outputs": [
    {
     "name": "stdout",
     "output_type": "stream",
     "text": [
      "4,084\n",
      "2,999\n",
      "6,934\n",
      "8,999\n",
      "1,999\n",
      "2,278\n",
      "7,200\n",
      "11,999\n",
      "1,999\n",
      "1,999\n",
      "10,549\n",
      "2,999\n",
      "2,302\n",
      "2,160\n",
      "2,278\n",
      "5,199\n",
      "8,099\n",
      "4,999\n",
      "2,027\n",
      "2,299\n",
      "2,789\n",
      "999\n",
      "1,999\n",
      "11,990\n",
      "299\n",
      "8,101\n",
      "7,555\n",
      "5,749\n",
      "84\n",
      "2,349\n",
      "4,580\n",
      "2,650\n",
      "2,799\n",
      "2,387\n",
      "2,054\n",
      "2,650\n",
      "2,499\n",
      "4,360\n",
      "2,503\n",
      "4,360\n",
      "499\n",
      "1,290\n",
      "7,990\n",
      "2,665\n",
      "2,349\n",
      "2,230\n",
      "2,655\n",
      "7,299\n",
      "9,699\n",
      "2,116\n",
      "2,199\n",
      "9,250\n",
      "2,876\n",
      "2,999\n",
      "6,999\n",
      "11,990\n",
      "1,190\n",
      "259\n",
      "8,999\n",
      "3,799\n",
      "2,349\n",
      "2,665\n",
      "199\n",
      "7,727\n",
      "4,701\n",
      "3,197\n",
      "2,299\n",
      "2,424\n",
      "2,336\n",
      "4,652\n",
      "6,899\n",
      "10,999\n",
      "4,020\n",
      "4,999\n",
      "2,665\n",
      "11,999\n",
      "2,948\n",
      "2,275\n",
      "6,323\n",
      "3,125\n",
      "12,529\n",
      "6,299\n",
      "2,665\n",
      "2,495\n",
      "2,849\n",
      "9,680\n",
      "4,351\n",
      "4,799\n",
      "4,999\n",
      "2,299\n",
      "2,789\n",
      "2,499\n",
      "3,125\n",
      "2,650\n",
      "2,948\n",
      "2,999\n",
      "7,999\n",
      "3,704\n",
      "10,799\n",
      "4,999\n",
      "5,499\n",
      "7,539\n",
      "10,797\n",
      "2,349\n",
      "4,084\n",
      "3,125\n",
      "199\n",
      "3,704\n",
      "2,426\n",
      "4,636\n",
      "11,999\n",
      "449\n",
      "449\n",
      "889\n",
      "7,539\n",
      "12,234\n",
      "6,699\n",
      "5,999\n",
      "2,961\n",
      "2,499\n",
      "2,275\n",
      "12,575\n",
      "4,979\n",
      "549\n",
      "8,000\n",
      "2,799\n",
      "14,999\n",
      "2,950\n",
      "25,299\n",
      "2,833\n",
      "17,600\n",
      "1,889\n",
      "37,518\n",
      "23,500\n",
      "3,299\n",
      "7,200.\n",
      "7,999\n",
      "2,774\n",
      "4,199\n",
      "2,849\n",
      "6,899\n",
      "82,999\n",
      "5,991\n",
      "20,000\n",
      "6,999\n",
      "13,005\n",
      "4,270\n",
      "5,899\n",
      "14,999\n",
      "9,990\n",
      "9,990\n",
      "11,199\n",
      "7,499\n",
      "10,649\n"
     ]
    },
    {
     "data": {
      "text/plain": [
       "159"
      ]
     },
     "execution_count": 10,
     "metadata": {},
     "output_type": "execute_result"
    }
   ],
   "source": [
    "#Price\n",
    "price=[]\n",
    "for i in links:\n",
    "    try:\n",
    "        driver.get(i)\n",
    "        tags=driver.find_element(By.XPATH,'//span[@class=\"a-price-whole\"]')\n",
    "        price.append(tags.text)\n",
    "        print(tags.text)\n",
    "    except:\n",
    "        price.append('-')\n",
    "\n",
    "\n",
    "len(price)"
   ]
  },
  {
   "cell_type": "code",
   "execution_count": 12,
   "id": "6e140436",
   "metadata": {},
   "outputs": [
    {
     "data": {
      "text/plain": [
       "159"
      ]
     },
     "execution_count": 12,
     "metadata": {},
     "output_type": "execute_result"
    }
   ],
   "source": [
    "#Availability\n",
    "avbl=[]\n",
    "for i in links:\n",
    "    driver.get(i)\n",
    "    try:\n",
    "        tags=driver.find_element(By.XPATH,'//span[@class=\"a-size-medium a-color-success\"]')\n",
    "        avbl.append(tags.text)\n",
    "    except:\n",
    "        avbl.append('-')\n",
    "len(avbl)        "
   ]
  },
  {
   "cell_type": "code",
   "execution_count": 13,
   "id": "b7e7a880",
   "metadata": {},
   "outputs": [
    {
     "data": {
      "text/plain": [
       "159"
      ]
     },
     "execution_count": 13,
     "metadata": {},
     "output_type": "execute_result"
    }
   ],
   "source": [
    "#return/exchange\n",
    "ret_exch=[]\n",
    "for i in links:\n",
    "    driver.get(i)\n",
    "    try:\n",
    "        tags=driver.find_element(By.XPATH,'//a[@class=\"a-size-small a-link-normal a-text-normal\"]')\n",
    "        ret_exch.append(tags.text)\n",
    "    except:\n",
    "        ret_exch.append('-')\n",
    "len(ret_exch)        "
   ]
  },
  {
   "cell_type": "code",
   "execution_count": 14,
   "id": "e19fe59c",
   "metadata": {},
   "outputs": [
    {
     "data": {
      "text/plain": [
       "159"
      ]
     },
     "execution_count": 14,
     "metadata": {},
     "output_type": "execute_result"
    }
   ],
   "source": [
    "#Expected Delivery\n",
    "exp_del=[]\n",
    "for i in links:\n",
    "    driver.get(i)\n",
    "    try:\n",
    "        tags=driver.find_element(By.XPATH,'//span[@class=\"a-text-bold\"]')\n",
    "        exp_del.append(tags.text)\n",
    "    except:\n",
    "        exp_del.append('-')\n",
    "        \n",
    "len(exp_del)        \n"
   ]
  },
  {
   "cell_type": "code",
   "execution_count": 15,
   "id": "aa102a4d",
   "metadata": {},
   "outputs": [],
   "source": [
    "df=pd.DataFrame(columns=['Brand Name','Name','Price','Return/Exchange','Expected Delivery','Availability','Product URL'])"
   ]
  },
  {
   "cell_type": "code",
   "execution_count": 16,
   "id": "65999384",
   "metadata": {},
   "outputs": [],
   "source": [
    "df[\"Brand Name\"]=b_name\n",
    "df[\"Name\"]=search\n",
    "df[\"Price\"]=price\n",
    "df[\"Return/Exchange\"]=ret_exch\n",
    "df[\"Expected Delivery\"]=exp_del\n",
    "df[\"Availability\"]=avbl\n",
    "df[\"Product URL\"]=links"
   ]
  },
  {
   "cell_type": "code",
   "execution_count": 17,
   "id": "a852da4e",
   "metadata": {},
   "outputs": [
    {
     "data": {
      "text/html": [
       "<div>\n",
       "<style scoped>\n",
       "    .dataframe tbody tr th:only-of-type {\n",
       "        vertical-align: middle;\n",
       "    }\n",
       "\n",
       "    .dataframe tbody tr th {\n",
       "        vertical-align: top;\n",
       "    }\n",
       "\n",
       "    .dataframe thead th {\n",
       "        text-align: right;\n",
       "    }\n",
       "</style>\n",
       "<table border=\"1\" class=\"dataframe\">\n",
       "  <thead>\n",
       "    <tr style=\"text-align: right;\">\n",
       "      <th></th>\n",
       "      <th>Brand Name</th>\n",
       "      <th>Name</th>\n",
       "      <th>Price</th>\n",
       "      <th>Return/Exchange</th>\n",
       "      <th>Expected Delivery</th>\n",
       "      <th>Availability</th>\n",
       "      <th>Product URL</th>\n",
       "    </tr>\n",
       "  </thead>\n",
       "  <tbody>\n",
       "    <tr>\n",
       "      <th>0</th>\n",
       "      <td>VAULT</td>\n",
       "      <td>guitar</td>\n",
       "      <td>4,084</td>\n",
       "      <td>Free Delivery</td>\n",
       "      <td>Saturday, 20 May</td>\n",
       "      <td>In stock</td>\n",
       "      <td>https://www.amazon.in/sspa/click?ie=UTF8&amp;spc=M...</td>\n",
       "    </tr>\n",
       "    <tr>\n",
       "      <th>1</th>\n",
       "      <td>Henrix</td>\n",
       "      <td>guitar</td>\n",
       "      <td>2,999</td>\n",
       "      <td>Free Delivery</td>\n",
       "      <td>Sunday, 21 May</td>\n",
       "      <td>In stock</td>\n",
       "      <td>https://www.amazon.in/sspa/click?ie=UTF8&amp;spc=M...</td>\n",
       "    </tr>\n",
       "    <tr>\n",
       "      <th>2</th>\n",
       "      <td>VAULT</td>\n",
       "      <td>guitar</td>\n",
       "      <td>6,934</td>\n",
       "      <td>Free Delivery</td>\n",
       "      <td>Sunday, 21 May</td>\n",
       "      <td>In stock</td>\n",
       "      <td>https://www.amazon.in/sspa/click?ie=UTF8&amp;spc=M...</td>\n",
       "    </tr>\n",
       "    <tr>\n",
       "      <th>3</th>\n",
       "      <td>Guitar Bro</td>\n",
       "      <td>guitar</td>\n",
       "      <td>8,999</td>\n",
       "      <td>Free Delivery</td>\n",
       "      <td>May 22 - 25</td>\n",
       "      <td>In stock</td>\n",
       "      <td>https://www.amazon.in/sspa/click?ie=UTF8&amp;spc=M...</td>\n",
       "    </tr>\n",
       "    <tr>\n",
       "      <th>4</th>\n",
       "      <td>JUAREZ</td>\n",
       "      <td>guitar</td>\n",
       "      <td>1,999</td>\n",
       "      <td>Returns Policy</td>\n",
       "      <td></td>\n",
       "      <td>-</td>\n",
       "      <td>https://www.amazon.in/Juarez-Acoustic-Cutaway-...</td>\n",
       "    </tr>\n",
       "  </tbody>\n",
       "</table>\n",
       "</div>"
      ],
      "text/plain": [
       "   Brand Name    Name  Price Return/Exchange Expected Delivery Availability  \\\n",
       "0       VAULT  guitar  4,084   Free Delivery  Saturday, 20 May     In stock   \n",
       "1      Henrix  guitar  2,999   Free Delivery    Sunday, 21 May     In stock   \n",
       "2       VAULT  guitar  6,934   Free Delivery    Sunday, 21 May     In stock   \n",
       "3  Guitar Bro  guitar  8,999   Free Delivery       May 22 - 25     In stock   \n",
       "4      JUAREZ  guitar  1,999  Returns Policy                              -   \n",
       "\n",
       "                                         Product URL  \n",
       "0  https://www.amazon.in/sspa/click?ie=UTF8&spc=M...  \n",
       "1  https://www.amazon.in/sspa/click?ie=UTF8&spc=M...  \n",
       "2  https://www.amazon.in/sspa/click?ie=UTF8&spc=M...  \n",
       "3  https://www.amazon.in/sspa/click?ie=UTF8&spc=M...  \n",
       "4  https://www.amazon.in/Juarez-Acoustic-Cutaway-...  "
      ]
     },
     "execution_count": 17,
     "metadata": {},
     "output_type": "execute_result"
    }
   ],
   "source": [
    "df.head()"
   ]
  },
  {
   "cell_type": "code",
   "execution_count": 18,
   "id": "bba0e92e",
   "metadata": {},
   "outputs": [],
   "source": [
    "csv_data=df.to_csv('amazon.csv',index=True)"
   ]
  },
  {
   "cell_type": "code",
   "execution_count": null,
   "id": "161e8383",
   "metadata": {},
   "outputs": [],
   "source": []
  },
  {
   "cell_type": "code",
   "execution_count": null,
   "id": "21a1deae",
   "metadata": {},
   "outputs": [],
   "source": []
  },
  {
   "cell_type": "code",
   "execution_count": null,
   "id": "d8f0d89f",
   "metadata": {},
   "outputs": [],
   "source": [
    "#Question 3"
   ]
  },
  {
   "cell_type": "code",
   "execution_count": null,
   "id": "054b39a8",
   "metadata": {},
   "outputs": [],
   "source": [
    "driver.get('https://images.google.com/')"
   ]
  },
  {
   "cell_type": "code",
   "execution_count": null,
   "id": "157cf314",
   "metadata": {},
   "outputs": [],
   "source": [
    "#Fruits\n",
    "search_bar=driver.find_element(By.CLASS_NAME,'gLFyf')\n",
    "search_bar.send_keys('fruits')\n",
    "search=driver.find_element(By.CLASS_NAME,'Tg7LZd')\n",
    "search.click()"
   ]
  },
  {
   "cell_type": "code",
   "execution_count": null,
   "id": "78b25ad4",
   "metadata": {},
   "outputs": [],
   "source": [
    "img_url=[]\n",
    "img_tags=driver.find_elements(By.XPATH,'//div[@class=\" bRMDJf islir\"]')\n",
    "i=1\n",
    "for j in img_tags:\n",
    "    if(i<=10):\n",
    "        src=j.find_element(By.TAG_NAME,'img').get_attribute('src')\n",
    "        img_url.append(src)\n",
    "        i+=1\n",
    "    else:\n",
    "        break\n",
    "        \n",
    "len(img_url)        "
   ]
  },
  {
   "cell_type": "code",
   "execution_count": null,
   "id": "6a69ab27",
   "metadata": {},
   "outputs": [],
   "source": [
    "#cars\n",
    "search_bar=driver.find_element(By.CLASS_NAME,'gLFyf')\n",
    "search_bar.send_keys('cars')\n",
    "search=driver.find_element(By.CLASS_NAME,'Tg7LZd')\n",
    "search.click()"
   ]
  },
  {
   "cell_type": "code",
   "execution_count": null,
   "id": "d329cbdd",
   "metadata": {},
   "outputs": [],
   "source": [
    "img_url=[]\n",
    "img_tags=driver.find_elements(By.XPATH,'//div[@class=\" bRMDJf islir\"]')\n",
    "i=1\n",
    "for j in img_tags:\n",
    "    if(i<=10):\n",
    "        src=j.find_element(By.TAG_NAME,'img').get_attribute('src')\n",
    "        img_url.append(src)\n",
    "        i+=1\n",
    "    else:\n",
    "        break\n",
    "        \n",
    "len(img_url)        "
   ]
  },
  {
   "cell_type": "code",
   "execution_count": null,
   "id": "8b62b4ab",
   "metadata": {},
   "outputs": [],
   "source": [
    "#Machine Learning\n",
    "search_bar=driver.find_element(By.CLASS_NAME,'gLFyf')\n",
    "search_bar.send_keys('Meachine Learning')\n",
    "search=driver.find_element(By.CLASS_NAME,'Tg7LZd')\n",
    "search.click()"
   ]
  },
  {
   "cell_type": "code",
   "execution_count": null,
   "id": "e84176e8",
   "metadata": {},
   "outputs": [],
   "source": [
    "img_url=[]\n",
    "img_tags=driver.find_elements(By.XPATH,'//div[@class=\" bRMDJf islir\"]')\n",
    "i=1\n",
    "for j in img_tags:\n",
    "    if(i<=10):\n",
    "        src=j.find_element(By.TAG_NAME,'img').get_attribute('src')\n",
    "        img_url.append(src)\n",
    "        i+=1\n",
    "    else:\n",
    "        break\n",
    "        \n",
    "len(img_url)        "
   ]
  },
  {
   "cell_type": "code",
   "execution_count": null,
   "id": "f53bc235",
   "metadata": {},
   "outputs": [],
   "source": [
    "#guitar\n",
    "search_bar=driver.find_element(By.CLASS_NAME,'gLFyf')\n",
    "search_bar.send_keys('Guitar')\n",
    "search=driver.find_element(By.CLASS_NAME,'Tg7LZd')\n",
    "search.click()\n"
   ]
  },
  {
   "cell_type": "code",
   "execution_count": null,
   "id": "927a3d6f",
   "metadata": {},
   "outputs": [],
   "source": [
    "img_url=[]\n",
    "img_tags=driver.find_elements(By.XPATH,'//div[@class=\" bRMDJf islir\"]')\n",
    "i=1\n",
    "for j in img_tags:\n",
    "    if(i<=10):\n",
    "        src=j.find_element(By.TAG_NAME,'img').get_attribute('src')\n",
    "        img_url.append(src)\n",
    "        i+=1\n",
    "    else:\n",
    "        break\n",
    "        \n",
    "len(img_url)       "
   ]
  },
  {
   "cell_type": "code",
   "execution_count": null,
   "id": "c57b1086",
   "metadata": {},
   "outputs": [],
   "source": [
    "#cakes\n",
    "search_bar=driver.find_element(By.CLASS_NAME,'gLFyf')\n",
    "search_bar.send_keys('Cakes')\n",
    "search=driver.find_element(By.CLASS_NAME,'Tg7LZd')\n",
    "search.click()"
   ]
  },
  {
   "cell_type": "code",
   "execution_count": null,
   "id": "cf48f568",
   "metadata": {},
   "outputs": [],
   "source": [
    "img_url=[]\n",
    "img_tags=driver.find_elements(By.XPATH,'//div[@class=\" bRMDJf islir\"]')\n",
    "i=1\n",
    "for j in img_tags:\n",
    "    if(i<=10):\n",
    "        src=j.find_element(By.TAG_NAME,'img').get_attribute('src')\n",
    "        img_url.append(src)\n",
    "        i+=1\n",
    "    else:\n",
    "        break\n",
    "        \n",
    "len(img_url)       "
   ]
  },
  {
   "cell_type": "code",
   "execution_count": null,
   "id": "daa85ffd",
   "metadata": {},
   "outputs": [],
   "source": []
  },
  {
   "cell_type": "code",
   "execution_count": null,
   "id": "beae74c4",
   "metadata": {},
   "outputs": [],
   "source": []
  },
  {
   "cell_type": "code",
   "execution_count": null,
   "id": "e7de90e7",
   "metadata": {},
   "outputs": [],
   "source": [
    "#Question 4"
   ]
  },
  {
   "cell_type": "code",
   "execution_count": null,
   "id": "055ff9d4",
   "metadata": {},
   "outputs": [],
   "source": [
    "driver.get('http://www.flipkart.com/')"
   ]
  },
  {
   "cell_type": "code",
   "execution_count": null,
   "id": "b8c4238a",
   "metadata": {},
   "outputs": [],
   "source": [
    "search=driver.find_element(By.CLASS_NAME,'_3704LK')\n",
    "search.send_keys('One plus Nord')\n",
    "button=driver.find_element(By.CLASS_NAME,'L0Z3Pu')\n",
    "button.click()"
   ]
  },
  {
   "cell_type": "code",
   "execution_count": null,
   "id": "fbf478be",
   "metadata": {},
   "outputs": [],
   "source": []
  },
  {
   "cell_type": "code",
   "execution_count": null,
   "id": "d4d1ee74",
   "metadata": {},
   "outputs": [],
   "source": [
    "sphone_tags=driver.find_elements(By.XPATH,'//div[@class=\"_4rR01T\"]')\n",
    "sphone_name=[]\n",
    "for i in sphone_tags:\n",
    "    sphone_name.append(i.text)\n",
    "    \n",
    "len(sphone_name)    "
   ]
  },
  {
   "cell_type": "code",
   "execution_count": null,
   "id": "7730856b",
   "metadata": {},
   "outputs": [],
   "source": [
    "price=[]\n",
    "price_tags=driver.find_elements(By.XPATH,'//div[@class=\"_30jeq3 _1_WHN1\"]')\n",
    "for i in price_tags:\n",
    "    try:\n",
    "        price.append(i.text)\n",
    "    except:\n",
    "        price.append('-')\n",
    "    \n",
    "price "
   ]
  },
  {
   "cell_type": "code",
   "execution_count": null,
   "id": "9b277cf2",
   "metadata": {},
   "outputs": [],
   "source": [
    "product_url_tags=driver.find_elements(By.XPATH,'//a[@class=\"_1fQZEK\"]')\n",
    "product_url=[]\n",
    "\n",
    "for i in product_url_tags:\n",
    "    href=i.get_attribute('href')\n",
    "    product_url.append('href')\n",
    "    \n",
    "len(product_url)    "
   ]
  },
  {
   "cell_type": "code",
   "execution_count": null,
   "id": "ce7753ca",
   "metadata": {},
   "outputs": [],
   "source": [
    "links=[]\n",
    "d_size=[]\n",
    "secondary_camera=[]\n",
    "battery=[]\n",
    "tags=driver.find_elements(By.XPATH,'//a[@class=\"_1fQZEK\"]')\n",
    "for i in tags:\n",
    "    href=i.get_attribute('href')\n",
    "    links.append(href)\n",
    "    \n",
    "len(links)   \n",
    "for i in links:\n",
    "    driver.get(i)\n",
    "    tag=driver.find_element(By.XPATH,'//div[@class=\"_2418kt\"]')\n",
    "    li_tags=tag.find_elements(By.TAG_NAME,'li')\n",
    "    d_size.append(li_tags[1].text)\n",
    "    secondary_camera.append(li_tags[2].text)\n",
    "    battery.append(li_tags[3].text)\n",
    "\n"
   ]
  },
  {
   "cell_type": "code",
   "execution_count": null,
   "id": "05232d3e",
   "metadata": {},
   "outputs": [],
   "source": [
    "\n",
    "links=[]\n",
    "colour=[]\n",
    "tags=driver.find_elements(By.XPATH,'//a[@class=\"_1fQZEK\"]')\n",
    "for i in tags:\n",
    "    href=i.get_attribute('href')\n",
    "    links.append(href)\n",
    "    \n",
    "for i in links:\n",
    "    try:\n",
    "        driver.get(i)\n",
    "        value=driver.find_elements(By.XPATH,'//li[@class=\"_21lJbe\"]')\n",
    "        print(value[3].text)\n",
    "        colour.append(value[3].text)\n",
    "    except: \n",
    "        driver.append('-')\n",
    "len(colour)        "
   ]
  },
  {
   "cell_type": "code",
   "execution_count": null,
   "id": "72a2217a",
   "metadata": {},
   "outputs": [],
   "source": [
    "#RAM,ROM\n",
    "links=[]\n",
    "ram=[]\n",
    "rom=[]\n",
    "primary_camera=[]\n",
    "tags=driver.find_elements(By.XPATH,'//a[@class=\"_1fQZEK\"]')\n",
    "for i in tags:\n",
    "    href=i.get_attribute('href')\n",
    "    links.append(href)\n",
    "    \n",
    "for i in links:\n",
    "    driver.get(i)\n",
    "    button=driver.find_element(By.XPATH,'//button[@class=\"_2KpZ6l _1FH0tX\"]')\n",
    "    button.click()\n",
    "    value1=driver.find_elements(By.XPATH,'//li[@class=\"_21lJbe\"]')\n",
    "    ram.append(value1[15].text)\n",
    "    rom.append(value1[14].text)\n",
    "    primary_camera.append(value1[17].text)\n",
    "    print(value1[15].text,\" \",value1[14].text)\n",
    "    \n",
    "print(len(ram))   "
   ]
  },
  {
   "cell_type": "code",
   "execution_count": null,
   "id": "e6069a1c",
   "metadata": {},
   "outputs": [],
   "source": [
    "len(primary_camera)"
   ]
  },
  {
   "cell_type": "code",
   "execution_count": null,
   "id": "64aefb2c",
   "metadata": {},
   "outputs": [],
   "source": [
    "import pandas as pd"
   ]
  },
  {
   "cell_type": "code",
   "execution_count": null,
   "id": "fc7a162a",
   "metadata": {},
   "outputs": [],
   "source": [
    "df=pd.DataFrame(columns=['Brand Name','Smart Phone Name','Colour','RAM','ROM','Primary Camera','Secondary Camera','Display Size','Battery capacity','Price','product URL'])"
   ]
  },
  {
   "cell_type": "code",
   "execution_count": null,
   "id": "ae51da4d",
   "metadata": {},
   "outputs": [],
   "source": [
    "df['Smart Phone Name']=sphone_name\n",
    "df['Colour']=colour\n",
    "df['RAM']=ram\n",
    "df['ROM']=rom\n",
    "df['Primary Camera']=primary_camera\n",
    "df['Secondary Camera']=secondary_camera\n",
    "df['Display Size']=d_size\n",
    "df['Battery capacity']=battery\n",
    "df['Price']=price\n",
    "df['product URL']=product_url\n",
    "df['Brand Name']='One Plus Nord'\n",
    "\n"
   ]
  },
  {
   "cell_type": "code",
   "execution_count": null,
   "id": "45bcac31",
   "metadata": {},
   "outputs": [],
   "source": [
    "df"
   ]
  },
  {
   "cell_type": "code",
   "execution_count": null,
   "id": "165af800",
   "metadata": {},
   "outputs": [],
   "source": [
    "csv_data=df.to_csv('One_plus.csv',index=True)"
   ]
  },
  {
   "cell_type": "code",
   "execution_count": null,
   "id": "0b528a7d",
   "metadata": {},
   "outputs": [],
   "source": []
  },
  {
   "cell_type": "code",
   "execution_count": null,
   "id": "edb72d11",
   "metadata": {},
   "outputs": [],
   "source": [
    "#Question 5"
   ]
  },
  {
   "cell_type": "code",
   "execution_count": 19,
   "id": "145720ea",
   "metadata": {},
   "outputs": [],
   "source": [
    "driver.get('https://www.google.com/maps')"
   ]
  },
  {
   "cell_type": "code",
   "execution_count": 20,
   "id": "261e37cb",
   "metadata": {},
   "outputs": [],
   "source": [
    "search=driver.find_element(By.ID,'searchboxinput')\n",
    "search.send_keys('Hyderabad')\n",
    "button=driver.find_element(By.ID,'searchbox-searchbutton')\n",
    "button.click()"
   ]
  },
  {
   "cell_type": "code",
   "execution_count": 35,
   "id": "40b382b2",
   "metadata": {},
   "outputs": [
    {
     "name": "stdout",
     "output_type": "stream",
     "text": [
      "[['17.412281', '78.2432316', '11z/']]\n"
     ]
    }
   ],
   "source": [
    "import re\n",
    "split=','\n",
    "value=[]\n",
    "try:\n",
    "    url=driver.current_url\n",
    "    lat_lang=re.findall(r'@(.*)data',url)\n",
    "    \n",
    "except :\n",
    "    print('exception occured')\n",
    "value=[s.split(',') for s in lat_lang]\n",
    "print(value)\n"
   ]
  },
  {
   "cell_type": "code",
   "execution_count": null,
   "id": "cbfa6e65",
   "metadata": {},
   "outputs": [],
   "source": [
    "#Question 6"
   ]
  },
  {
   "cell_type": "code",
   "execution_count": null,
   "id": "2c42b680",
   "metadata": {},
   "outputs": [],
   "source": [
    "import time"
   ]
  },
  {
   "cell_type": "code",
   "execution_count": null,
   "id": "ca88ec7d",
   "metadata": {},
   "outputs": [],
   "source": [
    "driver.get('https://trak.in/stories/')"
   ]
  },
  {
   "cell_type": "code",
   "execution_count": null,
   "id": "152b6488",
   "metadata": {},
   "outputs": [],
   "source": [
    "funding=driver.find_element(By.ID,'menu-item-1237902')\n",
    "funding.click()"
   ]
  },
  {
   "cell_type": "code",
   "execution_count": null,
   "id": "8e72de78",
   "metadata": {},
   "outputs": [],
   "source": [
    "search=driver.find_element(By.CLASS_NAME,'search_icon img-responsive')\n",
    "search.click()"
   ]
  },
  {
   "cell_type": "code",
   "execution_count": null,
   "id": "ce07656f",
   "metadata": {},
   "outputs": [],
   "source": []
  },
  {
   "cell_type": "code",
   "execution_count": null,
   "id": "264e4eb5",
   "metadata": {},
   "outputs": [],
   "source": [
    "#Question 7"
   ]
  },
  {
   "cell_type": "code",
   "execution_count": null,
   "id": "e4e6d322",
   "metadata": {},
   "outputs": [],
   "source": [
    "driver.get('https://www.digit.in/')"
   ]
  },
  {
   "cell_type": "code",
   "execution_count": null,
   "id": "f7929d92",
   "metadata": {},
   "outputs": [],
   "source": [
    "click=driver.find_element(By.XPATH,'/html/body/div[2]/div/ul/li[5]/span')\n",
    "click.click()"
   ]
  },
  {
   "cell_type": "code",
   "execution_count": null,
   "id": "fb35ac3e",
   "metadata": {},
   "outputs": [],
   "source": [
    "search=driver.find_element(By.XPATH,'/html/body/div[2]/div/ul/li[5]/div[2]/div/div[2]/div/ul[3]/li[4]/a')\n",
    "search.click()"
   ]
  },
  {
   "cell_type": "code",
   "execution_count": null,
   "id": "0207dd45",
   "metadata": {},
   "outputs": [],
   "source": [
    "tags=driver.find_elements(By.XPATH,'//div[@class=\"article_row\"]')\n",
    "links=[]\n",
    "best_laptops=[]\n",
    "for i in tags:\n",
    "    a_tag=i.find_element(By.TAG_NAME,'a').get_attribute('href')\n",
    "    \n",
    "    links.append(a_tag)\n",
    "    \n",
    "print(links)   \n",
    "\n",
    "for i in links:\n",
    "    driver.get(i)\n",
    "    print(i)\n",
    "    h3_tags=driver.find_elements(By.XPATH,'//div[@class=\"article_row big-image\"]')\n",
    "    for j in h3_tags:\n",
    "        \n",
    "        a_tag=j.find_element(By.TAG_NAME,'a')\n",
    "        print(a_tag.text)\n",
    "        best_laptops.append(a_tag.text)\n",
    "        \n",
    "print(best_laptops) \n"
   ]
  },
  {
   "cell_type": "code",
   "execution_count": null,
   "id": "bf28de4c",
   "metadata": {},
   "outputs": [],
   "source": []
  },
  {
   "cell_type": "code",
   "execution_count": null,
   "id": "4d9dd28a",
   "metadata": {},
   "outputs": [],
   "source": []
  },
  {
   "cell_type": "code",
   "execution_count": null,
   "id": "ad234d82",
   "metadata": {},
   "outputs": [],
   "source": []
  },
  {
   "cell_type": "code",
   "execution_count": null,
   "id": "876ed525",
   "metadata": {},
   "outputs": [],
   "source": []
  },
  {
   "cell_type": "code",
   "execution_count": null,
   "id": "6899f763",
   "metadata": {},
   "outputs": [],
   "source": [
    "#Question 8"
   ]
  },
  {
   "cell_type": "code",
   "execution_count": null,
   "id": "27ffd0d0",
   "metadata": {},
   "outputs": [],
   "source": [
    "driver.get('http://www.forbes.com/')"
   ]
  },
  {
   "cell_type": "code",
   "execution_count": null,
   "id": "ad9beab5",
   "metadata": {},
   "outputs": [],
   "source": [
    "tags=driver.find_element(By.TAG_NAME,'svg')\n",
    "tags.click()\n"
   ]
  },
  {
   "cell_type": "code",
   "execution_count": null,
   "id": "54cfa5c9",
   "metadata": {},
   "outputs": [],
   "source": [
    "button=driver.find_element(By.XPATH,'//li[@class=\"TjJgrPSg _2bNo56RE secondary\"][1]')\n",
    "a=button.find_element(By.TAG_NAME,'a')\n",
    "href=a.get_attribute('href')\n",
    "driver.get(href)"
   ]
  },
  {
   "cell_type": "code",
   "execution_count": null,
   "id": "29f0518c",
   "metadata": {},
   "outputs": [],
   "source": [
    "#Name\n",
    "name=[]\n",
    "\n",
    "for page in range(1,10):\n",
    "    tags=driver.find_elements(By.XPATH,'//div[@class=\"TableRow_cell__db-hv Table_cell__houv9\"][2]')\n",
    "    for i in tags:\n",
    "        name.append(i.text)\n",
    "    "
   ]
  },
  {
   "cell_type": "code",
   "execution_count": null,
   "id": "84d762f2",
   "metadata": {},
   "outputs": [],
   "source": [
    "#Rank\n",
    "rank=[]\n",
    "for page in range(1,10):\n",
    "    div_tag=driver.find_elements(By.XPATH,'//div[@class=\"Table_rank___YBhk Table_dataCell__2QCve\"]')\n",
    "\n",
    "    \n",
    "    for i in div_tag:\n",
    "        rank.append(i.text)\n",
    "    \n",
    "  \n",
    "rank"
   ]
  },
  {
   "cell_type": "code",
   "execution_count": null,
   "id": "c75461de",
   "metadata": {},
   "outputs": [],
   "source": [
    "#Net Worth\n",
    "net_worth=[]\n",
    "for page in range(1,10):\n",
    "    tags=driver.find_elements(By.XPATH,'//div[@class=\"Table_netWorth___L4R5 Table_dataCell__2QCve\"]')\n",
    "    for i in tags:\n",
    "        net_worth.append(i.text)\n",
    "    \n",
    "net_worth    "
   ]
  },
  {
   "cell_type": "code",
   "execution_count": null,
   "id": "5a2618eb",
   "metadata": {},
   "outputs": [],
   "source": [
    "#Age\n",
    "age=[]\n",
    "\n",
    "for page in range(1,10):\n",
    "    tags=driver.find_elements(By.XPATH,'//div[@class=\"TableRow_cell__db-hv Table_cell__houv9\"][4]')\n",
    "    for i in tags:\n",
    "        age.append(i.text)\n",
    "age    "
   ]
  },
  {
   "cell_type": "code",
   "execution_count": null,
   "id": "8f0334f1",
   "metadata": {},
   "outputs": [],
   "source": [
    "#citizenship\n",
    "citizenship=[]\n",
    "\n",
    "for page in range(1,10):\n",
    "    tags=driver.find_elements(By.XPATH,'//div[@class=\"TableRow_cell__db-hv Table_cell__houv9\"][5]')\n",
    "    for i in tags:\n",
    "        citizenship.append(i.text)\n",
    "citizenship    \n"
   ]
  },
  {
   "cell_type": "code",
   "execution_count": null,
   "id": "cac7829d",
   "metadata": {},
   "outputs": [],
   "source": [
    "#Source\n",
    "Source=[]\n",
    "\n",
    "for page in range(1,10):\n",
    "    tags=driver.find_elements(By.XPATH,'//div[@class=\"TableRow_cell__db-hv Table_cell__houv9\"][6]')\n",
    "    for i in tags:\n",
    "        Source.append(i.text)\n",
    "Source "
   ]
  },
  {
   "cell_type": "code",
   "execution_count": null,
   "id": "219af3c4",
   "metadata": {},
   "outputs": [],
   "source": [
    "#Industry\n",
    "\n",
    "Industry=[]\n",
    "\n",
    "for page in range(1,10):\n",
    "    tags=driver.find_elements(By.XPATH,'//div[@class=\"TableRow_cell__db-hv Table_cell__houv9\"][7]')\n",
    "    for i in tags:\n",
    "        Industry.append(i.text)\n",
    "Industry "
   ]
  },
  {
   "cell_type": "code",
   "execution_count": null,
   "id": "a15579e4",
   "metadata": {},
   "outputs": [],
   "source": []
  },
  {
   "cell_type": "code",
   "execution_count": null,
   "id": "155809cc",
   "metadata": {},
   "outputs": [],
   "source": []
  },
  {
   "cell_type": "code",
   "execution_count": null,
   "id": "992872c4",
   "metadata": {},
   "outputs": [],
   "source": [
    "#Question 9"
   ]
  },
  {
   "cell_type": "code",
   "execution_count": 17,
   "id": "3b72f15f",
   "metadata": {},
   "outputs": [],
   "source": [
    "driver.get('https://www.youtube.com/watch?v=X3paOmcrTjQ')"
   ]
  },
  {
   "cell_type": "code",
   "execution_count": 21,
   "id": "a6810a7a",
   "metadata": {},
   "outputs": [
    {
     "data": {
      "text/plain": [
       "760"
      ]
     },
     "execution_count": 21,
     "metadata": {},
     "output_type": "execute_result"
    }
   ],
   "source": [
    "driver.execute_script(\"window.scrollTo(0, document.body.scrollHeight);\")\n",
    "tags=driver.find_elements(By.XPATH,'//yt-formatted-string[@class=\"style-scope ytd-comment-renderer\"]')  \n",
    "comment=[]\n",
    "n=1\n",
    "while(n<=500):\n",
    "    for i in tags:\n",
    "        comment.append(i.text)\n",
    "        n+=1\n",
    "        \n",
    "len(comment)        "
   ]
  },
  {
   "cell_type": "code",
   "execution_count": null,
   "id": "db8bf903",
   "metadata": {},
   "outputs": [],
   "source": []
  },
  {
   "cell_type": "code",
   "execution_count": null,
   "id": "c1703d68",
   "metadata": {},
   "outputs": [],
   "source": []
  },
  {
   "cell_type": "code",
   "execution_count": null,
   "id": "e10014d1",
   "metadata": {},
   "outputs": [],
   "source": [
    "#Question 10"
   ]
  },
  {
   "cell_type": "code",
   "execution_count": null,
   "id": "15ca77c4",
   "metadata": {},
   "outputs": [],
   "source": [
    "driver.get('http://www.hostelworld.com/')"
   ]
  },
  {
   "cell_type": "code",
   "execution_count": null,
   "id": "3082415c",
   "metadata": {},
   "outputs": [],
   "source": [
    "search=driver.find_element(By.CLASS_NAME,'field-inner')\n",
    "search.click()"
   ]
  },
  {
   "cell_type": "code",
   "execution_count": null,
   "id": "0b3da480",
   "metadata": {},
   "outputs": [],
   "source": [
    "search=driver.find_element(By.CLASS_NAME,'search-input')\n",
    "search.send_keys('London')"
   ]
  },
  {
   "cell_type": "code",
   "execution_count": null,
   "id": "67b8832e",
   "metadata": {},
   "outputs": [],
   "source": [
    "tag=driver.find_element(By.XPATH,'/html/body/div[3]/div/div/div[2]/div[2]/div/div/div[4]/div/div[2]/div/div[1]/div/div/ul/li[2]/div')\n",
    "tag.click()"
   ]
  },
  {
   "cell_type": "code",
   "execution_count": null,
   "id": "c2edf929",
   "metadata": {},
   "outputs": [],
   "source": [
    "click=driver.find_element(By.ID,'search-button')\n",
    "click.click()"
   ]
  },
  {
   "cell_type": "code",
   "execution_count": null,
   "id": "9e92c632",
   "metadata": {},
   "outputs": [],
   "source": [
    "name=[]\n",
    "for page in range(1,3):\n",
    "    tags=driver.find_elements(By.XPATH,'//h2[@class=\"title title-6\"]')\n",
    "    for i in tags:\n",
    "        j=i.find_element(By.TAG_NAME,'a')\n",
    "        name.append(j.text)\n",
    "\n",
    "len(name)"
   ]
  },
  {
   "cell_type": "code",
   "execution_count": null,
   "id": "d4992db4",
   "metadata": {},
   "outputs": [],
   "source": [
    "distance=[]\n",
    "for page in range(1,3):\n",
    "    tags=driver.find_elements(By.XPATH,'//span[@class=\"description\"]')\n",
    "    \n",
    "    for i in tags:\n",
    "        j=i.find_element(By.TAG_NAME,'span')\n",
    "        distance.append(j.text)\n",
    "    \n",
    "len(distance)    "
   ]
  },
  {
   "cell_type": "code",
   "execution_count": null,
   "id": "29f49a78",
   "metadata": {},
   "outputs": [],
   "source": [
    "rating=[]\n",
    "for page in range(1,3):\n",
    "    try:\n",
    "        tags=driver.find_elements(By.XPATH,'//div[@class=\"score orange big\"]')\n",
    "        for i in tags:\n",
    "        \n",
    "            rating.append(i.text)\n",
    "    except:\n",
    "        rating.append('-')\n",
    "        \n",
    "    \n",
    "    \n",
    "        \n",
    "len(rating)        "
   ]
  },
  {
   "cell_type": "code",
   "execution_count": null,
   "id": "86900d18",
   "metadata": {},
   "outputs": [],
   "source": [
    "privates=[]\n",
    "for page in range(1,3):\n",
    "    tags=driver.find_elements(By.XPATH,'//div[@class=\"price title-5\"]')\n",
    "    for i in tags:\n",
    "        if(i):\n",
    "            privates.append(i.text)\n",
    "        else:\n",
    "            continue\n",
    "        \n",
    "len(privates)        \n",
    "privates        "
   ]
  },
  {
   "cell_type": "code",
   "execution_count": null,
   "id": "0966ea97",
   "metadata": {},
   "outputs": [],
   "source": [
    "dorms=[]\n",
    "for page in range(1,3):\n",
    "    tags=driver.find_elements(By.XPATH,'//div[@class=\"price title-5\"]')\n",
    "    for i in tags:\n",
    "        dorms.append(i.text)\n",
    "        \n",
    "len(dorms)        "
   ]
  },
  {
   "cell_type": "code",
   "execution_count": null,
   "id": "5a7ebc3a",
   "metadata": {},
   "outputs": [],
   "source": [
    "description=[]\n",
    "links=[]\n",
    "facilities=[]\n",
    "for page in range(1,3):\n",
    "    tags=driver.find_elements(By.XPATH,'//h2[@class=\"title title-6\"]')\n",
    "    for j in tags:\n",
    "        href=j.find_element(By.TAG_NAME,'a').get_attribute('href')\n",
    "        links.append(href)\n",
    "\n",
    "for i in links:\n",
    "    driver.get(i)\n",
    "    try:\n",
    "        \n",
    "        tags=driver.find_element(By.XPATH,'//div[@class=\"content collapse-content\"]')\n",
    "        description.append(tags.text)\n",
    "    except:\n",
    "        continue\n",
    "\n",
    "        \n",
    "\n",
    "\n",
    "        \n",
    "len(description)   "
   ]
  },
  {
   "cell_type": "code",
   "execution_count": null,
   "id": "c336ad7e",
   "metadata": {},
   "outputs": [],
   "source": [
    "facilities=[]\n",
    "links=[]\n",
    "link1=[]\n",
    "for page in range(1,3):\n",
    "    tags=driver.find_elements(By.XPATH,'//h2[@class=\"title title-6\"]')\n",
    "    for j in tags:\n",
    "        href=j.find_element(By.TAG_NAME,'a').get_attribute('href')\n",
    "        links.append(href)\n",
    "        \n",
    "for i in links:\n",
    "    driver.get(i)\n",
    "    try:\n",
    "        tags=driver.find_element(By.CLASS_NAME,'facilities')\n",
    "        facilities.append(tags.text)\n",
    "        print(tags.text)\n",
    "    except:\n",
    "        facilities.append('-')\n",
    "        \n",
    "len(facilities)        "
   ]
  },
  {
   "cell_type": "code",
   "execution_count": null,
   "id": "78c7803d",
   "metadata": {},
   "outputs": [],
   "source": [
    "fac=[]\n",
    "tags=driver.find_element(By.CLASS_NAME,'facilities')\n",
    "tags.text"
   ]
  },
  {
   "cell_type": "code",
   "execution_count": null,
   "id": "4a83a45c",
   "metadata": {},
   "outputs": [],
   "source": [
    "total_reviews=[]\n",
    "for page in range(1,3):\n",
    "    tags=driver.find_elements(By.XPATH,'//div[@class=\"reviews\"]')\n",
    "    for i in tags:\n",
    "        total_reviews.append(i.text)\n",
    "    \n",
    "len(total_reviews)    "
   ]
  },
  {
   "cell_type": "code",
   "execution_count": null,
   "id": "36f58555",
   "metadata": {},
   "outputs": [],
   "source": [
    "overall_reviews=[]\n",
    "for page in range(1,3):\n",
    "    tags=driver.find_elements(By.XPATH,'//div[@class=\"keyword\"]')\n",
    "    for i in tags:\n",
    "        span=i.find_element(By.TAG_NAME,'span')\n",
    "       \n",
    "        overall_reviews.append(span.text)\n",
    "    \n",
    "len(overall_reviews)    "
   ]
  },
  {
   "cell_type": "code",
   "execution_count": null,
   "id": "80f0feb3",
   "metadata": {},
   "outputs": [],
   "source": []
  }
 ],
 "metadata": {
  "kernelspec": {
   "display_name": "Python 3 (ipykernel)",
   "language": "python",
   "name": "python3"
  },
  "language_info": {
   "codemirror_mode": {
    "name": "ipython",
    "version": 3
   },
   "file_extension": ".py",
   "mimetype": "text/x-python",
   "name": "python",
   "nbconvert_exporter": "python",
   "pygments_lexer": "ipython3",
   "version": "3.9.12"
  }
 },
 "nbformat": 4,
 "nbformat_minor": 5
}
